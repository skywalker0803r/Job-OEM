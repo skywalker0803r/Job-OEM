{
  "nbformat": 4,
  "nbformat_minor": 0,
  "metadata": {
    "colab": {
      "provenance": [],
      "mount_file_id": "1oJdmZSOfN6ujJtSoHfzgP7fDBYQt60Kf",
      "authorship_tag": "ABX9TyMtu/5p5iPUDuK29afC/ciw",
      "include_colab_link": true
    },
    "kernelspec": {
      "name": "python3",
      "display_name": "Python 3"
    },
    "language_info": {
      "name": "python"
    }
  },
  "cells": [
    {
      "cell_type": "markdown",
      "metadata": {
        "id": "view-in-github",
        "colab_type": "text"
      },
      "source": [
        "<a href=\"https://colab.research.google.com/github/skywalker0803r/Job-OEM/blob/main/movielens.ipynb\" target=\"_parent\"><img src=\"https://colab.research.google.com/assets/colab-badge.svg\" alt=\"Open In Colab\"/></a>"
      ]
    },
    {
      "cell_type": "markdown",
      "source": [
        "# 創建基於用戶-用戶鄰域的協同過濾推薦系統"
      ],
      "metadata": {
        "id": "UdA6joHtRF0i"
      }
    },
    {
      "cell_type": "markdown",
      "source": [
        "簡介 在本筆記本中，我們將使用 Movielens 100K 數據集構建推薦系統。\n",
        "\n",
        "協同過濾是一種依賴於用戶的偏好來提出建議的方法。\n",
        "\n",
        "推薦系統將使用基於內存的算法，這意味著將對整個數據集進行統計計算，以預測用戶的偏好。\n",
        "\n",
        "將遵循基於用戶的方法，這意味著將計算用戶之間的相似性。 最後，Neighborhood-Based 方法的選擇將是 K-NearestNeighbors：來自最近鄰居列表的評級將被組合以預測未知評級"
      ],
      "metadata": {
        "id": "TATnqPrAX8Wm"
      }
    },
    {
      "cell_type": "code",
      "execution_count": 63,
      "metadata": {
        "id": "WQ4d67reMbHa"
      },
      "outputs": [],
      "source": [
        "import numpy as np \n",
        "import pandas as pd \n",
        "import seaborn as sns\n",
        "from scipy.sparse import csr_matrix\n",
        "from sklearn.neighbors import NearestNeighbors\n",
        "import warnings"
      ]
    },
    {
      "cell_type": "markdown",
      "source": [
        "獲取數據 從 u.data 文件中讀取每部電影的用戶評分，並從 u.item 文件中獲取電影名稱"
      ],
      "metadata": {
        "id": "qafcvwlCYOd2"
      }
    },
    {
      "cell_type": "code",
      "source": [
        "udata_path = '/content/u.data'\n",
        "user_ratings = pd.read_csv(udata_path,sep='\\t',names=['user_id','movie_id','rating'],usecols=[0,1,2])\n",
        "uitem_path = '/content/u.item'\n",
        "movie_info =  pd.read_csv(uitem_path, sep='|', names=['movie_id','title'],usecols=[0,1],encoding=\"ISO-8859-1\")"
      ],
      "metadata": {
        "id": "jU4JRg64VfOI"
      },
      "execution_count": 65,
      "outputs": []
    },
    {
      "cell_type": "markdown",
      "source": [
        "將信息合併到一個 DataFrame 中"
      ],
      "metadata": {
        "id": "KHZ0Jro_Yb-I"
      }
    },
    {
      "cell_type": "code",
      "source": [
        "user_ratings = pd.merge(movie_info, user_ratings)\n",
        "\n",
        "user_ratings.head()"
      ],
      "metadata": {
        "colab": {
          "base_uri": "https://localhost:8080/",
          "height": 206
        },
        "id": "CtGSAemiYQZs",
        "outputId": "451f16c1-07fd-4c23-8605-83fdaa47c4f2"
      },
      "execution_count": 66,
      "outputs": [
        {
          "output_type": "execute_result",
          "data": {
            "text/plain": [
              "   movie_id             title  user_id  rating\n",
              "0         1  Toy Story (1995)      308       4\n",
              "1         1  Toy Story (1995)      287       5\n",
              "2         1  Toy Story (1995)      148       4\n",
              "3         1  Toy Story (1995)      280       4\n",
              "4         1  Toy Story (1995)       66       3"
            ],
            "text/html": [
              "\n",
              "  <div id=\"df-77440520-6b18-4632-90f8-4c1e48ac2f02\">\n",
              "    <div class=\"colab-df-container\">\n",
              "      <div>\n",
              "<style scoped>\n",
              "    .dataframe tbody tr th:only-of-type {\n",
              "        vertical-align: middle;\n",
              "    }\n",
              "\n",
              "    .dataframe tbody tr th {\n",
              "        vertical-align: top;\n",
              "    }\n",
              "\n",
              "    .dataframe thead th {\n",
              "        text-align: right;\n",
              "    }\n",
              "</style>\n",
              "<table border=\"1\" class=\"dataframe\">\n",
              "  <thead>\n",
              "    <tr style=\"text-align: right;\">\n",
              "      <th></th>\n",
              "      <th>movie_id</th>\n",
              "      <th>title</th>\n",
              "      <th>user_id</th>\n",
              "      <th>rating</th>\n",
              "    </tr>\n",
              "  </thead>\n",
              "  <tbody>\n",
              "    <tr>\n",
              "      <th>0</th>\n",
              "      <td>1</td>\n",
              "      <td>Toy Story (1995)</td>\n",
              "      <td>308</td>\n",
              "      <td>4</td>\n",
              "    </tr>\n",
              "    <tr>\n",
              "      <th>1</th>\n",
              "      <td>1</td>\n",
              "      <td>Toy Story (1995)</td>\n",
              "      <td>287</td>\n",
              "      <td>5</td>\n",
              "    </tr>\n",
              "    <tr>\n",
              "      <th>2</th>\n",
              "      <td>1</td>\n",
              "      <td>Toy Story (1995)</td>\n",
              "      <td>148</td>\n",
              "      <td>4</td>\n",
              "    </tr>\n",
              "    <tr>\n",
              "      <th>3</th>\n",
              "      <td>1</td>\n",
              "      <td>Toy Story (1995)</td>\n",
              "      <td>280</td>\n",
              "      <td>4</td>\n",
              "    </tr>\n",
              "    <tr>\n",
              "      <th>4</th>\n",
              "      <td>1</td>\n",
              "      <td>Toy Story (1995)</td>\n",
              "      <td>66</td>\n",
              "      <td>3</td>\n",
              "    </tr>\n",
              "  </tbody>\n",
              "</table>\n",
              "</div>\n",
              "      <button class=\"colab-df-convert\" onclick=\"convertToInteractive('df-77440520-6b18-4632-90f8-4c1e48ac2f02')\"\n",
              "              title=\"Convert this dataframe to an interactive table.\"\n",
              "              style=\"display:none;\">\n",
              "        \n",
              "  <svg xmlns=\"http://www.w3.org/2000/svg\" height=\"24px\"viewBox=\"0 0 24 24\"\n",
              "       width=\"24px\">\n",
              "    <path d=\"M0 0h24v24H0V0z\" fill=\"none\"/>\n",
              "    <path d=\"M18.56 5.44l.94 2.06.94-2.06 2.06-.94-2.06-.94-.94-2.06-.94 2.06-2.06.94zm-11 1L8.5 8.5l.94-2.06 2.06-.94-2.06-.94L8.5 2.5l-.94 2.06-2.06.94zm10 10l.94 2.06.94-2.06 2.06-.94-2.06-.94-.94-2.06-.94 2.06-2.06.94z\"/><path d=\"M17.41 7.96l-1.37-1.37c-.4-.4-.92-.59-1.43-.59-.52 0-1.04.2-1.43.59L10.3 9.45l-7.72 7.72c-.78.78-.78 2.05 0 2.83L4 21.41c.39.39.9.59 1.41.59.51 0 1.02-.2 1.41-.59l7.78-7.78 2.81-2.81c.8-.78.8-2.07 0-2.86zM5.41 20L4 18.59l7.72-7.72 1.47 1.35L5.41 20z\"/>\n",
              "  </svg>\n",
              "      </button>\n",
              "      \n",
              "  <style>\n",
              "    .colab-df-container {\n",
              "      display:flex;\n",
              "      flex-wrap:wrap;\n",
              "      gap: 12px;\n",
              "    }\n",
              "\n",
              "    .colab-df-convert {\n",
              "      background-color: #E8F0FE;\n",
              "      border: none;\n",
              "      border-radius: 50%;\n",
              "      cursor: pointer;\n",
              "      display: none;\n",
              "      fill: #1967D2;\n",
              "      height: 32px;\n",
              "      padding: 0 0 0 0;\n",
              "      width: 32px;\n",
              "    }\n",
              "\n",
              "    .colab-df-convert:hover {\n",
              "      background-color: #E2EBFA;\n",
              "      box-shadow: 0px 1px 2px rgba(60, 64, 67, 0.3), 0px 1px 3px 1px rgba(60, 64, 67, 0.15);\n",
              "      fill: #174EA6;\n",
              "    }\n",
              "\n",
              "    [theme=dark] .colab-df-convert {\n",
              "      background-color: #3B4455;\n",
              "      fill: #D2E3FC;\n",
              "    }\n",
              "\n",
              "    [theme=dark] .colab-df-convert:hover {\n",
              "      background-color: #434B5C;\n",
              "      box-shadow: 0px 1px 3px 1px rgba(0, 0, 0, 0.15);\n",
              "      filter: drop-shadow(0px 1px 2px rgba(0, 0, 0, 0.3));\n",
              "      fill: #FFFFFF;\n",
              "    }\n",
              "  </style>\n",
              "\n",
              "      <script>\n",
              "        const buttonEl =\n",
              "          document.querySelector('#df-77440520-6b18-4632-90f8-4c1e48ac2f02 button.colab-df-convert');\n",
              "        buttonEl.style.display =\n",
              "          google.colab.kernel.accessAllowed ? 'block' : 'none';\n",
              "\n",
              "        async function convertToInteractive(key) {\n",
              "          const element = document.querySelector('#df-77440520-6b18-4632-90f8-4c1e48ac2f02');\n",
              "          const dataTable =\n",
              "            await google.colab.kernel.invokeFunction('convertToInteractive',\n",
              "                                                     [key], {});\n",
              "          if (!dataTable) return;\n",
              "\n",
              "          const docLinkHtml = 'Like what you see? Visit the ' +\n",
              "            '<a target=\"_blank\" href=https://colab.research.google.com/notebooks/data_table.ipynb>data table notebook</a>'\n",
              "            + ' to learn more about interactive tables.';\n",
              "          element.innerHTML = '';\n",
              "          dataTable['output_type'] = 'display_data';\n",
              "          await google.colab.output.renderOutput(dataTable, element);\n",
              "          const docLink = document.createElement('div');\n",
              "          docLink.innerHTML = docLinkHtml;\n",
              "          element.appendChild(docLink);\n",
              "        }\n",
              "      </script>\n",
              "    </div>\n",
              "  </div>\n",
              "  "
            ]
          },
          "metadata": {},
          "execution_count": 66
        }
      ]
    },
    {
      "cell_type": "markdown",
      "source": [
        "創建用戶-項目評分矩陣。每行是一個用戶，值是用戶對每部電影的評分。電影標題在列中找到"
      ],
      "metadata": {
        "id": "OB-7_8M_Ymbs"
      }
    },
    {
      "cell_type": "code",
      "source": [
        "user_ratings = user_ratings.pivot_table(index=['user_id'],columns=['title'],values='rating')\n",
        "user_ratings.head()"
      ],
      "metadata": {
        "colab": {
          "base_uri": "https://localhost:8080/",
          "height": 380
        },
        "id": "u5g_p8mJYeLf",
        "outputId": "453fdc99-14bd-472a-b768-b4959510261b"
      },
      "execution_count": 67,
      "outputs": [
        {
          "output_type": "execute_result",
          "data": {
            "text/plain": [
              "title    'Til There Was You (1997)  1-900 (1994)  101 Dalmatians (1996)  \\\n",
              "user_id                                                                   \n",
              "1                              NaN           NaN                    2.0   \n",
              "2                              NaN           NaN                    NaN   \n",
              "3                              NaN           NaN                    NaN   \n",
              "4                              NaN           NaN                    NaN   \n",
              "5                              NaN           NaN                    2.0   \n",
              "\n",
              "title    12 Angry Men (1957)  187 (1997)  2 Days in the Valley (1996)  \\\n",
              "user_id                                                                 \n",
              "1                        5.0         NaN                          NaN   \n",
              "2                        NaN         NaN                          NaN   \n",
              "3                        NaN         2.0                          NaN   \n",
              "4                        NaN         NaN                          NaN   \n",
              "5                        NaN         NaN                          NaN   \n",
              "\n",
              "title    20,000 Leagues Under the Sea (1954)  2001: A Space Odyssey (1968)  \\\n",
              "user_id                                                                      \n",
              "1                                        3.0                           4.0   \n",
              "2                                        NaN                           NaN   \n",
              "3                                        NaN                           NaN   \n",
              "4                                        NaN                           NaN   \n",
              "5                                        NaN                           4.0   \n",
              "\n",
              "title    3 Ninjas: High Noon At Mega Mountain (1998)  39 Steps, The (1935)  \\\n",
              "user_id                                                                      \n",
              "1                                                NaN                   NaN   \n",
              "2                                                1.0                   NaN   \n",
              "3                                                NaN                   NaN   \n",
              "4                                                NaN                   NaN   \n",
              "5                                                NaN                   NaN   \n",
              "\n",
              "title    ...  Yankee Zulu (1994)  Year of the Horse (1997)  \\\n",
              "user_id  ...                                                 \n",
              "1        ...                 NaN                       NaN   \n",
              "2        ...                 NaN                       NaN   \n",
              "3        ...                 NaN                       NaN   \n",
              "4        ...                 NaN                       NaN   \n",
              "5        ...                 NaN                       NaN   \n",
              "\n",
              "title    You So Crazy (1994)  Young Frankenstein (1974)  Young Guns (1988)  \\\n",
              "user_id                                                                      \n",
              "1                        NaN                        5.0                3.0   \n",
              "2                        NaN                        NaN                NaN   \n",
              "3                        NaN                        NaN                NaN   \n",
              "4                        NaN                        NaN                NaN   \n",
              "5                        NaN                        4.0                NaN   \n",
              "\n",
              "title    Young Guns II (1990)  Young Poisoner's Handbook, The (1995)  \\\n",
              "user_id                                                                \n",
              "1                         NaN                                    NaN   \n",
              "2                         NaN                                    NaN   \n",
              "3                         NaN                                    NaN   \n",
              "4                         NaN                                    NaN   \n",
              "5                         NaN                                    NaN   \n",
              "\n",
              "title    Zeus and Roxanne (1997)  unknown  Á köldum klaka (Cold Fever) (1994)  \n",
              "user_id                                                                        \n",
              "1                            NaN      4.0                                 NaN  \n",
              "2                            NaN      NaN                                 NaN  \n",
              "3                            NaN      NaN                                 NaN  \n",
              "4                            NaN      NaN                                 NaN  \n",
              "5                            NaN      4.0                                 NaN  \n",
              "\n",
              "[5 rows x 1664 columns]"
            ],
            "text/html": [
              "\n",
              "  <div id=\"df-c866b935-a36a-4d6a-b9fd-b709b9d7aff4\">\n",
              "    <div class=\"colab-df-container\">\n",
              "      <div>\n",
              "<style scoped>\n",
              "    .dataframe tbody tr th:only-of-type {\n",
              "        vertical-align: middle;\n",
              "    }\n",
              "\n",
              "    .dataframe tbody tr th {\n",
              "        vertical-align: top;\n",
              "    }\n",
              "\n",
              "    .dataframe thead th {\n",
              "        text-align: right;\n",
              "    }\n",
              "</style>\n",
              "<table border=\"1\" class=\"dataframe\">\n",
              "  <thead>\n",
              "    <tr style=\"text-align: right;\">\n",
              "      <th>title</th>\n",
              "      <th>'Til There Was You (1997)</th>\n",
              "      <th>1-900 (1994)</th>\n",
              "      <th>101 Dalmatians (1996)</th>\n",
              "      <th>12 Angry Men (1957)</th>\n",
              "      <th>187 (1997)</th>\n",
              "      <th>2 Days in the Valley (1996)</th>\n",
              "      <th>20,000 Leagues Under the Sea (1954)</th>\n",
              "      <th>2001: A Space Odyssey (1968)</th>\n",
              "      <th>3 Ninjas: High Noon At Mega Mountain (1998)</th>\n",
              "      <th>39 Steps, The (1935)</th>\n",
              "      <th>...</th>\n",
              "      <th>Yankee Zulu (1994)</th>\n",
              "      <th>Year of the Horse (1997)</th>\n",
              "      <th>You So Crazy (1994)</th>\n",
              "      <th>Young Frankenstein (1974)</th>\n",
              "      <th>Young Guns (1988)</th>\n",
              "      <th>Young Guns II (1990)</th>\n",
              "      <th>Young Poisoner's Handbook, The (1995)</th>\n",
              "      <th>Zeus and Roxanne (1997)</th>\n",
              "      <th>unknown</th>\n",
              "      <th>Á köldum klaka (Cold Fever) (1994)</th>\n",
              "    </tr>\n",
              "    <tr>\n",
              "      <th>user_id</th>\n",
              "      <th></th>\n",
              "      <th></th>\n",
              "      <th></th>\n",
              "      <th></th>\n",
              "      <th></th>\n",
              "      <th></th>\n",
              "      <th></th>\n",
              "      <th></th>\n",
              "      <th></th>\n",
              "      <th></th>\n",
              "      <th></th>\n",
              "      <th></th>\n",
              "      <th></th>\n",
              "      <th></th>\n",
              "      <th></th>\n",
              "      <th></th>\n",
              "      <th></th>\n",
              "      <th></th>\n",
              "      <th></th>\n",
              "      <th></th>\n",
              "      <th></th>\n",
              "    </tr>\n",
              "  </thead>\n",
              "  <tbody>\n",
              "    <tr>\n",
              "      <th>1</th>\n",
              "      <td>NaN</td>\n",
              "      <td>NaN</td>\n",
              "      <td>2.0</td>\n",
              "      <td>5.0</td>\n",
              "      <td>NaN</td>\n",
              "      <td>NaN</td>\n",
              "      <td>3.0</td>\n",
              "      <td>4.0</td>\n",
              "      <td>NaN</td>\n",
              "      <td>NaN</td>\n",
              "      <td>...</td>\n",
              "      <td>NaN</td>\n",
              "      <td>NaN</td>\n",
              "      <td>NaN</td>\n",
              "      <td>5.0</td>\n",
              "      <td>3.0</td>\n",
              "      <td>NaN</td>\n",
              "      <td>NaN</td>\n",
              "      <td>NaN</td>\n",
              "      <td>4.0</td>\n",
              "      <td>NaN</td>\n",
              "    </tr>\n",
              "    <tr>\n",
              "      <th>2</th>\n",
              "      <td>NaN</td>\n",
              "      <td>NaN</td>\n",
              "      <td>NaN</td>\n",
              "      <td>NaN</td>\n",
              "      <td>NaN</td>\n",
              "      <td>NaN</td>\n",
              "      <td>NaN</td>\n",
              "      <td>NaN</td>\n",
              "      <td>1.0</td>\n",
              "      <td>NaN</td>\n",
              "      <td>...</td>\n",
              "      <td>NaN</td>\n",
              "      <td>NaN</td>\n",
              "      <td>NaN</td>\n",
              "      <td>NaN</td>\n",
              "      <td>NaN</td>\n",
              "      <td>NaN</td>\n",
              "      <td>NaN</td>\n",
              "      <td>NaN</td>\n",
              "      <td>NaN</td>\n",
              "      <td>NaN</td>\n",
              "    </tr>\n",
              "    <tr>\n",
              "      <th>3</th>\n",
              "      <td>NaN</td>\n",
              "      <td>NaN</td>\n",
              "      <td>NaN</td>\n",
              "      <td>NaN</td>\n",
              "      <td>2.0</td>\n",
              "      <td>NaN</td>\n",
              "      <td>NaN</td>\n",
              "      <td>NaN</td>\n",
              "      <td>NaN</td>\n",
              "      <td>NaN</td>\n",
              "      <td>...</td>\n",
              "      <td>NaN</td>\n",
              "      <td>NaN</td>\n",
              "      <td>NaN</td>\n",
              "      <td>NaN</td>\n",
              "      <td>NaN</td>\n",
              "      <td>NaN</td>\n",
              "      <td>NaN</td>\n",
              "      <td>NaN</td>\n",
              "      <td>NaN</td>\n",
              "      <td>NaN</td>\n",
              "    </tr>\n",
              "    <tr>\n",
              "      <th>4</th>\n",
              "      <td>NaN</td>\n",
              "      <td>NaN</td>\n",
              "      <td>NaN</td>\n",
              "      <td>NaN</td>\n",
              "      <td>NaN</td>\n",
              "      <td>NaN</td>\n",
              "      <td>NaN</td>\n",
              "      <td>NaN</td>\n",
              "      <td>NaN</td>\n",
              "      <td>NaN</td>\n",
              "      <td>...</td>\n",
              "      <td>NaN</td>\n",
              "      <td>NaN</td>\n",
              "      <td>NaN</td>\n",
              "      <td>NaN</td>\n",
              "      <td>NaN</td>\n",
              "      <td>NaN</td>\n",
              "      <td>NaN</td>\n",
              "      <td>NaN</td>\n",
              "      <td>NaN</td>\n",
              "      <td>NaN</td>\n",
              "    </tr>\n",
              "    <tr>\n",
              "      <th>5</th>\n",
              "      <td>NaN</td>\n",
              "      <td>NaN</td>\n",
              "      <td>2.0</td>\n",
              "      <td>NaN</td>\n",
              "      <td>NaN</td>\n",
              "      <td>NaN</td>\n",
              "      <td>NaN</td>\n",
              "      <td>4.0</td>\n",
              "      <td>NaN</td>\n",
              "      <td>NaN</td>\n",
              "      <td>...</td>\n",
              "      <td>NaN</td>\n",
              "      <td>NaN</td>\n",
              "      <td>NaN</td>\n",
              "      <td>4.0</td>\n",
              "      <td>NaN</td>\n",
              "      <td>NaN</td>\n",
              "      <td>NaN</td>\n",
              "      <td>NaN</td>\n",
              "      <td>4.0</td>\n",
              "      <td>NaN</td>\n",
              "    </tr>\n",
              "  </tbody>\n",
              "</table>\n",
              "<p>5 rows × 1664 columns</p>\n",
              "</div>\n",
              "      <button class=\"colab-df-convert\" onclick=\"convertToInteractive('df-c866b935-a36a-4d6a-b9fd-b709b9d7aff4')\"\n",
              "              title=\"Convert this dataframe to an interactive table.\"\n",
              "              style=\"display:none;\">\n",
              "        \n",
              "  <svg xmlns=\"http://www.w3.org/2000/svg\" height=\"24px\"viewBox=\"0 0 24 24\"\n",
              "       width=\"24px\">\n",
              "    <path d=\"M0 0h24v24H0V0z\" fill=\"none\"/>\n",
              "    <path d=\"M18.56 5.44l.94 2.06.94-2.06 2.06-.94-2.06-.94-.94-2.06-.94 2.06-2.06.94zm-11 1L8.5 8.5l.94-2.06 2.06-.94-2.06-.94L8.5 2.5l-.94 2.06-2.06.94zm10 10l.94 2.06.94-2.06 2.06-.94-2.06-.94-.94-2.06-.94 2.06-2.06.94z\"/><path d=\"M17.41 7.96l-1.37-1.37c-.4-.4-.92-.59-1.43-.59-.52 0-1.04.2-1.43.59L10.3 9.45l-7.72 7.72c-.78.78-.78 2.05 0 2.83L4 21.41c.39.39.9.59 1.41.59.51 0 1.02-.2 1.41-.59l7.78-7.78 2.81-2.81c.8-.78.8-2.07 0-2.86zM5.41 20L4 18.59l7.72-7.72 1.47 1.35L5.41 20z\"/>\n",
              "  </svg>\n",
              "      </button>\n",
              "      \n",
              "  <style>\n",
              "    .colab-df-container {\n",
              "      display:flex;\n",
              "      flex-wrap:wrap;\n",
              "      gap: 12px;\n",
              "    }\n",
              "\n",
              "    .colab-df-convert {\n",
              "      background-color: #E8F0FE;\n",
              "      border: none;\n",
              "      border-radius: 50%;\n",
              "      cursor: pointer;\n",
              "      display: none;\n",
              "      fill: #1967D2;\n",
              "      height: 32px;\n",
              "      padding: 0 0 0 0;\n",
              "      width: 32px;\n",
              "    }\n",
              "\n",
              "    .colab-df-convert:hover {\n",
              "      background-color: #E2EBFA;\n",
              "      box-shadow: 0px 1px 2px rgba(60, 64, 67, 0.3), 0px 1px 3px 1px rgba(60, 64, 67, 0.15);\n",
              "      fill: #174EA6;\n",
              "    }\n",
              "\n",
              "    [theme=dark] .colab-df-convert {\n",
              "      background-color: #3B4455;\n",
              "      fill: #D2E3FC;\n",
              "    }\n",
              "\n",
              "    [theme=dark] .colab-df-convert:hover {\n",
              "      background-color: #434B5C;\n",
              "      box-shadow: 0px 1px 3px 1px rgba(0, 0, 0, 0.15);\n",
              "      filter: drop-shadow(0px 1px 2px rgba(0, 0, 0, 0.3));\n",
              "      fill: #FFFFFF;\n",
              "    }\n",
              "  </style>\n",
              "\n",
              "      <script>\n",
              "        const buttonEl =\n",
              "          document.querySelector('#df-c866b935-a36a-4d6a-b9fd-b709b9d7aff4 button.colab-df-convert');\n",
              "        buttonEl.style.display =\n",
              "          google.colab.kernel.accessAllowed ? 'block' : 'none';\n",
              "\n",
              "        async function convertToInteractive(key) {\n",
              "          const element = document.querySelector('#df-c866b935-a36a-4d6a-b9fd-b709b9d7aff4');\n",
              "          const dataTable =\n",
              "            await google.colab.kernel.invokeFunction('convertToInteractive',\n",
              "                                                     [key], {});\n",
              "          if (!dataTable) return;\n",
              "\n",
              "          const docLinkHtml = 'Like what you see? Visit the ' +\n",
              "            '<a target=\"_blank\" href=https://colab.research.google.com/notebooks/data_table.ipynb>data table notebook</a>'\n",
              "            + ' to learn more about interactive tables.';\n",
              "          element.innerHTML = '';\n",
              "          dataTable['output_type'] = 'display_data';\n",
              "          await google.colab.output.renderOutput(dataTable, element);\n",
              "          const docLink = document.createElement('div');\n",
              "          docLink.innerHTML = docLinkHtml;\n",
              "          element.appendChild(docLink);\n",
              "        }\n",
              "      </script>\n",
              "    </div>\n",
              "  </div>\n",
              "  "
            ]
          },
          "metadata": {},
          "execution_count": 67
        }
      ]
    },
    {
      "cell_type": "markdown",
      "source": [
        "我們創建了一個函數，該函數返回dataframe具有的非 Nan 值的百分比。"
      ],
      "metadata": {
        "id": "TSXknSOTY2Oa"
      }
    },
    {
      "cell_type": "code",
      "source": [
        "def df_fill_percentage(data):\n",
        "    return round( data.notna().sum().sum() / (data.shape[0] * data.shape[1]) * 100, 2)\n",
        "df_fill_percentage(user_ratings)"
      ],
      "metadata": {
        "colab": {
          "base_uri": "https://localhost:8080/"
        },
        "id": "DgEqwgCAYqQo",
        "outputId": "4080258e-d6ea-4fe2-a50b-215543f0de79"
      },
      "execution_count": 68,
      "outputs": [
        {
          "output_type": "execute_result",
          "data": {
            "text/plain": [
              "6.35"
            ]
          },
          "metadata": {},
          "execution_count": 68
        }
      ]
    },
    {
      "cell_type": "markdown",
      "source": [
        "每個用戶的評分數"
      ],
      "metadata": {
        "id": "81maz4SYZgZN"
      }
    },
    {
      "cell_type": "code",
      "source": [
        "user_ratings.count(axis=1).plot(kind='box')"
      ],
      "metadata": {
        "colab": {
          "base_uri": "https://localhost:8080/",
          "height": 283
        },
        "id": "FHJj3wepY-Yf",
        "outputId": "33192e1d-1518-4cc1-c76c-24692e1f802f"
      },
      "execution_count": 69,
      "outputs": [
        {
          "output_type": "execute_result",
          "data": {
            "text/plain": [
              "<matplotlib.axes._subplots.AxesSubplot at 0x7fc9cfd203a0>"
            ]
          },
          "metadata": {},
          "execution_count": 69
        },
        {
          "output_type": "display_data",
          "data": {
            "text/plain": [
              "<Figure size 432x288 with 1 Axes>"
            ],
            "image/png": "[encoded data removed]"
          },
          "metadata": {}
        }
      ]
    },
    {
      "cell_type": "code",
      "source": [
        "user_ratings.count(axis=1).plot(kind='hist')"
      ],
      "metadata": {
        "colab": {
          "base_uri": "https://localhost:8080/",
          "height": 283
        },
        "id": "_qzNjU6LZh_f",
        "outputId": "b6dc30b9-c3ce-42bb-9cea-20b542285849"
      },
      "execution_count": 70,
      "outputs": [
        {
          "output_type": "execute_result",
          "data": {
            "text/plain": [
              "<matplotlib.axes._subplots.AxesSubplot at 0x7fc9cfc7ad00>"
            ]
          },
          "metadata": {},
          "execution_count": 70
        },
        {
          "output_type": "display_data",
          "data": {
            "text/plain": [
              "<Figure size 432x288 with 1 Axes>"
            ],
            "image/png": "[encoded data removed]"
          },
          "metadata": {}
        }
      ]
    },
    {
      "cell_type": "markdown",
      "source": [
        "User - 用戶協同過濾"
      ],
      "metadata": {
        "id": "t7MAEY8pZqfo"
      }
    },
    {
      "cell_type": "markdown",
      "source": [
        "通過找到一些用戶這些用戶是\n",
        "與我們要推薦給的用戶有相似偏好的人\n",
        "來做推薦系統\n",
        "\n",
        "這可以分為 3 個步驟：\n",
        "\n",
        "相似度矩陣的計算\n",
        "\n",
        "找到每個用戶的 K 個最近的鄰居\n",
        "\n",
        "結合鄰里的評級來預測評級"
      ],
      "metadata": {
        "id": "dk01mmenaDsX"
      }
    },
    {
      "cell_type": "markdown",
      "source": [
        "1. 相似度計算——使用皮爾遜相關係數"
      ],
      "metadata": {
        "id": "peO9zQHhaZ06"
      }
    },
    {
      "cell_type": "code",
      "source": [
        "user_distances = user_ratings.transpose().corr(method='pearson')"
      ],
      "metadata": {
        "id": "xJQu3DeyZkNH"
      },
      "execution_count": 71,
      "outputs": []
    },
    {
      "cell_type": "markdown",
      "source": [
        "稍後我們將使用 user_distances 為每個用戶找到 K 個最近的鄰居。 這意味著我們必須確保每個用戶至少擁有該數量 (K) 的鄰居。少於 K 個鄰居的用戶將被排除在推薦之外。"
      ],
      "metadata": {
        "id": "mW1WKdjjar7z"
      }
    },
    {
      "cell_type": "code",
      "source": [
        "nneighbors = 10\n",
        "# Keep only the rows+columns with at least nneighbors+1 number non-NA values.\n",
        "user_distances = user_distances.dropna(axis=0, thresh=nneighbors+1).dropna(axis=1,thresh=nneighbors+1)\n",
        "# Make the matrix square (dropping the extra rows as well)\n",
        "user_distances = user_distances.loc[user_distances.columns]"
      ],
      "metadata": {
        "id": "BYHrY2fkaj3f"
      },
      "execution_count": 74,
      "outputs": []
    },
    {
      "cell_type": "markdown",
      "source": [
        "我們不需要計算相關性，而是計算用戶之間的距離。為此，我們將使用 Pearson 的距離度量"
      ],
      "metadata": {
        "id": "wU4eNApGa1e7"
      }
    },
    {
      "cell_type": "code",
      "source": [
        "# from PCC ranging [-1,+1] to Pearson's distance [0,2]\n",
        "user_distances = 1.0 - user_distances\n",
        "# solves floating point precision problem\n",
        "user_distances[user_distances < 0] = 0"
      ],
      "metadata": {
        "id": "24oGeqrcaxAf"
      },
      "execution_count": 75,
      "outputs": []
    },
    {
      "cell_type": "markdown",
      "source": [
        "2.鄰里的形成 使用來自 sklearn.neighbors 的 NearestNeighbors 找到每個用戶的 K 個最近鄰居。我們在上一步中為我們的數據預先計算了一個距離矩陣。"
      ],
      "metadata": {
        "id": "uEYoyYHPbBtm"
      }
    },
    {
      "cell_type": "code",
      "source": [
        "# metric is “precomputed”, \n",
        "# X is assumed to be a distance matrix and must be square during fit\n",
        "model_knn = NearestNeighbors(metric='precomputed', \n",
        "                             algorithm='brute', n_neighbors=10, n_jobs=-1)\n",
        "# fit\n",
        "# X may be a sparse graph, in which case only “nonzero” elements may be considered neighbors\n",
        "model_knn.fit(csr_matrix(user_distances.fillna(0).values))\n",
        "# predict\n",
        "similarity, indexes = model_knn.kneighbors(csr_matrix(user_distances.fillna(0).values), \n",
        "                                           n_neighbors=nneighbors)"
      ],
      "metadata": {
        "colab": {
          "base_uri": "https://localhost:8080/"
        },
        "id": "4V-tZjeUa9fw",
        "outputId": "0f4122bf-b384-486e-a30c-ff09e3ba4b6c"
      },
      "execution_count": 77,
      "outputs": [
        {
          "output_type": "stream",
          "name": "stderr",
          "text": [
            "/usr/local/lib/python3.8/dist-packages/sklearn/neighbors/_base.py:199: EfficiencyWarning: Precomputed sparse input was not sorted by data.\n",
            "  warnings.warn(\n"
          ]
        }
      ]
    },
    {
      "cell_type": "code",
      "source": [
        "neighborhoods = pd.DataFrame({'neighborhood_ids':[user_distances.iloc[neighbors].index.to_list() \n",
        "                                                for neighbors in indexes], \n",
        "                              'distance': similarity.tolist()}, \n",
        "                             index=user_distances.index)\n",
        "neighborhoods"
      ],
      "metadata": {
        "colab": {
          "base_uri": "https://localhost:8080/",
          "height": 455
        },
        "id": "vcZ3lHa0bEyP",
        "outputId": "569a94b2-0342-43f0-829f-5c784f74994e"
      },
      "execution_count": 78,
      "outputs": [
        {
          "output_type": "execute_result",
          "data": {
            "text/plain": [
              "                                          neighborhood_ids  \\\n",
              "user_id                                                      \n",
              "1        [520, 107, 687, 34, 105, 740, 485, 400, 873, 510]   \n",
              "2        [426, 341, 476, 267, 310, 766, 352, 162, 338, ...   \n",
              "3        [618, 879, 368, 563, 359, 906, 867, 512, 452, ...   \n",
              "4        [825, 899, 739, 169, 812, 168, 325, 80, 369, 711]   \n",
              "5        [728, 791, 482, 565, 797, 415, 781, 931, 571, ...   \n",
              "...                                                    ...   \n",
              "939      [482, 578, 640, 728, 832, 609, 397, 451, 492, ...   \n",
              "940       [726, 859, 300, 105, 289, 4, 510, 428, 353, 872]   \n",
              "941      [801, 243, 350, 781, 841, 451, 610, 93, 431, 574]   \n",
              "942       [736, 310, 893, 19, 623, 852, 723, 556, 501, 36]   \n",
              "943       [782, 832, 520, 9, 369, 464, 415, 139, 306, 736]   \n",
              "\n",
              "                                                  distance  \n",
              "user_id                                                     \n",
              "1        [0.08144134645630818, 0.08346578621692213, 0.0...  \n",
              "2        [1.1102230246251565e-16, 0.015268072165338209,...  \n",
              "3        [2.220446049250313e-16, 2.220446049250313e-16,...  \n",
              "4        [2.220446049250313e-16, 0.015268072165338209, ...  \n",
              "5        [0.018019493938034148, 0.029274656605848937, 0...  \n",
              "...                                                    ...  \n",
              "939      [1.1102230246251565e-16, 1.1102230246251565e-1...  \n",
              "940      [0.018019493938034148, 0.01801949393803437, 0....  \n",
              "941      [1.1102230246251565e-16, 2.220446049250313e-16...  \n",
              "942      [1.1102230246251565e-16, 2.220446049250313e-16...  \n",
              "943      [2.220446049250313e-16, 2.220446049250313e-16,...  \n",
              "\n",
              "[943 rows x 2 columns]"
            ],
            "text/html": [
              "\n",
              "  <div id=\"df-86ebdf07-7e0e-4fb6-8f67-b7fe42d40cfc\">\n",
              "    <div class=\"colab-df-container\">\n",
              "      <div>\n",
              "<style scoped>\n",
              "    .dataframe tbody tr th:only-of-type {\n",
              "        vertical-align: middle;\n",
              "    }\n",
              "\n",
              "    .dataframe tbody tr th {\n",
              "        vertical-align: top;\n",
              "    }\n",
              "\n",
              "    .dataframe thead th {\n",
              "        text-align: right;\n",
              "    }\n",
              "</style>\n",
              "<table border=\"1\" class=\"dataframe\">\n",
              "  <thead>\n",
              "    <tr style=\"text-align: right;\">\n",
              "      <th></th>\n",
              "      <th>neighborhood_ids</th>\n",
              "      <th>distance</th>\n",
              "    </tr>\n",
              "    <tr>\n",
              "      <th>user_id</th>\n",
              "      <th></th>\n",
              "      <th></th>\n",
              "    </tr>\n",
              "  </thead>\n",
              "  <tbody>\n",
              "    <tr>\n",
              "      <th>1</th>\n",
              "      <td>[520, 107, 687, 34, 105, 740, 485, 400, 873, 510]</td>\n",
              "      <td>[0.08144134645630818, 0.08346578621692213, 0.0...</td>\n",
              "    </tr>\n",
              "    <tr>\n",
              "      <th>2</th>\n",
              "      <td>[426, 341, 476, 267, 310, 766, 352, 162, 338, ...</td>\n",
              "      <td>[1.1102230246251565e-16, 0.015268072165338209,...</td>\n",
              "    </tr>\n",
              "    <tr>\n",
              "      <th>3</th>\n",
              "      <td>[618, 879, 368, 563, 359, 906, 867, 512, 452, ...</td>\n",
              "      <td>[2.220446049250313e-16, 2.220446049250313e-16,...</td>\n",
              "    </tr>\n",
              "    <tr>\n",
              "      <th>4</th>\n",
              "      <td>[825, 899, 739, 169, 812, 168, 325, 80, 369, 711]</td>\n",
              "      <td>[2.220446049250313e-16, 0.015268072165338209, ...</td>\n",
              "    </tr>\n",
              "    <tr>\n",
              "      <th>5</th>\n",
              "      <td>[728, 791, 482, 565, 797, 415, 781, 931, 571, ...</td>\n",
              "      <td>[0.018019493938034148, 0.029274656605848937, 0...</td>\n",
              "    </tr>\n",
              "    <tr>\n",
              "      <th>...</th>\n",
              "      <td>...</td>\n",
              "      <td>...</td>\n",
              "    </tr>\n",
              "    <tr>\n",
              "      <th>939</th>\n",
              "      <td>[482, 578, 640, 728, 832, 609, 397, 451, 492, ...</td>\n",
              "      <td>[1.1102230246251565e-16, 1.1102230246251565e-1...</td>\n",
              "    </tr>\n",
              "    <tr>\n",
              "      <th>940</th>\n",
              "      <td>[726, 859, 300, 105, 289, 4, 510, 428, 353, 872]</td>\n",
              "      <td>[0.018019493938034148, 0.01801949393803437, 0....</td>\n",
              "    </tr>\n",
              "    <tr>\n",
              "      <th>941</th>\n",
              "      <td>[801, 243, 350, 781, 841, 451, 610, 93, 431, 574]</td>\n",
              "      <td>[1.1102230246251565e-16, 2.220446049250313e-16...</td>\n",
              "    </tr>\n",
              "    <tr>\n",
              "      <th>942</th>\n",
              "      <td>[736, 310, 893, 19, 623, 852, 723, 556, 501, 36]</td>\n",
              "      <td>[1.1102230246251565e-16, 2.220446049250313e-16...</td>\n",
              "    </tr>\n",
              "    <tr>\n",
              "      <th>943</th>\n",
              "      <td>[782, 832, 520, 9, 369, 464, 415, 139, 306, 736]</td>\n",
              "      <td>[2.220446049250313e-16, 2.220446049250313e-16,...</td>\n",
              "    </tr>\n",
              "  </tbody>\n",
              "</table>\n",
              "<p>943 rows × 2 columns</p>\n",
              "</div>\n",
              "      <button class=\"colab-df-convert\" onclick=\"convertToInteractive('df-86ebdf07-7e0e-4fb6-8f67-b7fe42d40cfc')\"\n",
              "              title=\"Convert this dataframe to an interactive table.\"\n",
              "              style=\"display:none;\">\n",
              "        \n",
              "  <svg xmlns=\"http://www.w3.org/2000/svg\" height=\"24px\"viewBox=\"0 0 24 24\"\n",
              "       width=\"24px\">\n",
              "    <path d=\"M0 0h24v24H0V0z\" fill=\"none\"/>\n",
              "    <path d=\"M18.56 5.44l.94 2.06.94-2.06 2.06-.94-2.06-.94-.94-2.06-.94 2.06-2.06.94zm-11 1L8.5 8.5l.94-2.06 2.06-.94-2.06-.94L8.5 2.5l-.94 2.06-2.06.94zm10 10l.94 2.06.94-2.06 2.06-.94-2.06-.94-.94-2.06-.94 2.06-2.06.94z\"/><path d=\"M17.41 7.96l-1.37-1.37c-.4-.4-.92-.59-1.43-.59-.52 0-1.04.2-1.43.59L10.3 9.45l-7.72 7.72c-.78.78-.78 2.05 0 2.83L4 21.41c.39.39.9.59 1.41.59.51 0 1.02-.2 1.41-.59l7.78-7.78 2.81-2.81c.8-.78.8-2.07 0-2.86zM5.41 20L4 18.59l7.72-7.72 1.47 1.35L5.41 20z\"/>\n",
              "  </svg>\n",
              "      </button>\n",
              "      \n",
              "  <style>\n",
              "    .colab-df-container {\n",
              "      display:flex;\n",
              "      flex-wrap:wrap;\n",
              "      gap: 12px;\n",
              "    }\n",
              "\n",
              "    .colab-df-convert {\n",
              "      background-color: #E8F0FE;\n",
              "      border: none;\n",
              "      border-radius: 50%;\n",
              "      cursor: pointer;\n",
              "      display: none;\n",
              "      fill: #1967D2;\n",
              "      height: 32px;\n",
              "      padding: 0 0 0 0;\n",
              "      width: 32px;\n",
              "    }\n",
              "\n",
              "    .colab-df-convert:hover {\n",
              "      background-color: #E2EBFA;\n",
              "      box-shadow: 0px 1px 2px rgba(60, 64, 67, 0.3), 0px 1px 3px 1px rgba(60, 64, 67, 0.15);\n",
              "      fill: #174EA6;\n",
              "    }\n",
              "\n",
              "    [theme=dark] .colab-df-convert {\n",
              "      background-color: #3B4455;\n",
              "      fill: #D2E3FC;\n",
              "    }\n",
              "\n",
              "    [theme=dark] .colab-df-convert:hover {\n",
              "      background-color: #434B5C;\n",
              "      box-shadow: 0px 1px 3px 1px rgba(0, 0, 0, 0.15);\n",
              "      filter: drop-shadow(0px 1px 2px rgba(0, 0, 0, 0.3));\n",
              "      fill: #FFFFFF;\n",
              "    }\n",
              "  </style>\n",
              "\n",
              "      <script>\n",
              "        const buttonEl =\n",
              "          document.querySelector('#df-86ebdf07-7e0e-4fb6-8f67-b7fe42d40cfc button.colab-df-convert');\n",
              "        buttonEl.style.display =\n",
              "          google.colab.kernel.accessAllowed ? 'block' : 'none';\n",
              "\n",
              "        async function convertToInteractive(key) {\n",
              "          const element = document.querySelector('#df-86ebdf07-7e0e-4fb6-8f67-b7fe42d40cfc');\n",
              "          const dataTable =\n",
              "            await google.colab.kernel.invokeFunction('convertToInteractive',\n",
              "                                                     [key], {});\n",
              "          if (!dataTable) return;\n",
              "\n",
              "          const docLinkHtml = 'Like what you see? Visit the ' +\n",
              "            '<a target=\"_blank\" href=https://colab.research.google.com/notebooks/data_table.ipynb>data table notebook</a>'\n",
              "            + ' to learn more about interactive tables.';\n",
              "          element.innerHTML = '';\n",
              "          dataTable['output_type'] = 'display_data';\n",
              "          await google.colab.output.renderOutput(dataTable, element);\n",
              "          const docLink = document.createElement('div');\n",
              "          docLink.innerHTML = docLinkHtml;\n",
              "          element.appendChild(docLink);\n",
              "        }\n",
              "      </script>\n",
              "    </div>\n",
              "  </div>\n",
              "  "
            ]
          },
          "metadata": {},
          "execution_count": 78
        }
      ]
    },
    {
      "cell_type": "markdown",
      "source": [
        "3. 結合最近鄰列表中的評分來預測未知評分"
      ],
      "metadata": {
        "id": "ilj-wSxObPqj"
      }
    },
    {
      "cell_type": "markdown",
      "source": [
        "對於每個用戶，我們將使用他們各自的鄰域 (K-NearestNeighbors) 來計算評分。 讓我們先為 id 為 1 的用戶計算，\n",
        "然後創建一個適用於所有用戶的通用函數"
      ],
      "metadata": {
        "id": "xq1yUC7xbXcF"
      }
    },
    {
      "cell_type": "code",
      "source": [
        "neighbors = neighborhoods['neighborhood_ids'].loc[1]\n",
        "neighbors"
      ],
      "metadata": {
        "colab": {
          "base_uri": "https://localhost:8080/"
        },
        "id": "WJmhTor_bKzY",
        "outputId": "c4fd3174-f0f6-43f2-9b21-1ebefb629bf0"
      },
      "execution_count": 79,
      "outputs": [
        {
          "output_type": "execute_result",
          "data": {
            "text/plain": [
              "[520, 107, 687, 34, 105, 740, 485, 400, 873, 510]"
            ]
          },
          "metadata": {},
          "execution_count": 79
        }
      ]
    },
    {
      "cell_type": "markdown",
      "source": [
        "最後，我們可以為 id 為 1 的用戶計算其鄰居對電影的評分預測。\n",
        "\n",
        "這個計算可以使用各種函數，最常用的是使用相似性的鄰居評級的加權平均值，但我們現在將使用簡單的平均值。"
      ],
      "metadata": {
        "id": "Z0Cve3eMf_P2"
      }
    },
    {
      "cell_type": "code",
      "source": [
        "user_ratings.loc[neighbors].mean()"
      ],
      "metadata": {
        "colab": {
          "base_uri": "https://localhost:8080/"
        },
        "id": "Er2jjp74bhKA",
        "outputId": "ee44a089-03a6-4d5e-bc22-cc5d8e0c8bcf"
      },
      "execution_count": 80,
      "outputs": [
        {
          "output_type": "execute_result",
          "data": {
            "text/plain": [
              "title\n",
              "'Til There Was You (1997)                NaN\n",
              "1-900 (1994)                             NaN\n",
              "101 Dalmatians (1996)                    NaN\n",
              "12 Angry Men (1957)                      NaN\n",
              "187 (1997)                               2.5\n",
              "                                        ... \n",
              "Young Guns II (1990)                     NaN\n",
              "Young Poisoner's Handbook, The (1995)    NaN\n",
              "Zeus and Roxanne (1997)                  NaN\n",
              "unknown                                  NaN\n",
              "Á köldum klaka (Cold Fever) (1994)       NaN\n",
              "Length: 1664, dtype: float64"
            ]
          },
          "metadata": {},
          "execution_count": 80
        }
      ]
    },
    {
      "cell_type": "markdown",
      "source": [
        "# Putting it all together"
      ],
      "metadata": {
        "id": "NwgiJjSDgFaQ"
      }
    },
    {
      "cell_type": "code",
      "source": [
        "def usercf_predict_rating_closure(user_ratings, neighborhoods):\n",
        "    # 創建預測評分的函數\n",
        "    def usercf_predict_rating_using_nmean(row):\n",
        "        # 對於行的用戶\n",
        "        # 根據鄰居用戶的平均評分計算評分\n",
        "        # 對結果進行四捨五入（因為評分是整數值）\n",
        "        # 獲取該行用戶的鄰居id\n",
        "        neighbors_ids = neighborhoods['neighborhood_ids'].loc[row.name]\n",
        "        # 計算預測結果\n",
        "        pred_ratings = user_ratings.loc[neighbors_ids].mean()\n",
        "        return round(pred_ratings)\n",
        "    \n",
        "    return usercf_predict_rating_using_nmean"
      ],
      "metadata": {
        "id": "1x4DixyvgBHH"
      },
      "execution_count": 82,
      "outputs": []
    },
    {
      "cell_type": "code",
      "source": [
        "def recommendation_system_user_model(minperiods, nneighbors, user_ratings):\n",
        "    # user_distances = user similarity matrix. \n",
        "    user_distances = user_ratings.transpose().corr(method='pearson',min_periods=minperiods)\n",
        "    # Keep only the rows+columns with at least nneighbors+1 number non-NA values.\n",
        "    user_distances = user_distances.dropna(axis=0,thresh=nneighbors+1).dropna(axis=1,thresh=nneighbors+1)\n",
        "    # Make the matrix square (dropping the extra rows as well)\n",
        "    user_distances = user_distances.loc[user_distances.columns]\n",
        "    # from PCC ranging [-1,+1] to Pearson's distance [0,2]\n",
        "    user_distances = 1 - user_distances\n",
        "    # replace negative values with zero (solving float precision issue)\n",
        "    user_distances[user_distances < 0] = 0\n",
        "    # define model\n",
        "    # metric is “precomputed”, \n",
        "    # X is assumed to be a distance matrix and must be square during fit\n",
        "    model_knn = NearestNeighbors(metric='precomputed', algorithm='brute',n_neighbors=nneighbors, n_jobs=-1)\n",
        "    # fit\n",
        "    # X may be a sparse graph, \n",
        "    # in which case only “nonzero” elements may be considered neighbors\n",
        "    model_knn.fit(csr_matrix(user_distances.fillna(0).values))\n",
        "    # predict\n",
        "    similarity, indexes = model_knn.kneighbors(csr_matrix(user_distances.fillna(0).values),n_neighbors=nneighbors)\n",
        "    # dataframe with list of nns per user and their distances\n",
        "    neighborhoods = pd.DataFrame({'neighborhood_ids':[user_distances.iloc[neighbors].index.to_list() for neighbors in indexes], \n",
        "                                  'distance': similarity.tolist()}, \n",
        "                                 index=user_distances.index)\n",
        "    # Combine ratings using mean \n",
        "    pred = user_ratings.reindex(neighborhoods.index).apply(usercf_predict_rating_closure(user_ratings,neighborhoods),axis='columns')\n",
        "    # Merge known ratings with predicted ratings for the final result\n",
        "    user_ratings.merge(pred, how='right')\n",
        "    return pred, neighborhoods"
      ],
      "metadata": {
        "id": "IfhSJK11gMu3"
      },
      "execution_count": 84,
      "outputs": []
    },
    {
      "cell_type": "markdown",
      "source": [
        "# 測試與評估"
      ],
      "metadata": {
        "id": "wLY0rt0DhlAg"
      }
    },
    {
      "cell_type": "markdown",
      "source": [
        "構建推薦系統的一個巨大挑戰是找到衡量其預測質量的方法。 根據 Herlocker 等人的說法。\n",
        "\n",
        "在評估協同過濾推薦系統中，我們可以為其定義一些指標，例如覆蓋率和準確性。\n",
        "\n",
        "覆蓋率：衡量推薦系統可以提供預測的項目的百分比。\n",
        "\n",
        "準確度：衡量預測準確度的指標 對於覆蓋率，我們將檢查用戶的百分比和系統無法生成任何預測的電影的百分比。\n",
        "\n",
        "我們將使用平均絕對誤差 (MAE) 作為預測精度指標，這是最常用於評估協同過濾的指標之一"
      ],
      "metadata": {
        "id": "OZ8adkVzhzYr"
      }
    },
    {
      "cell_type": "code",
      "source": [
        "# because of NaNs, custom MAE calculation function is created\n",
        "def mae(user_ratings, predicted_ratings):\n",
        "    # absolute difference of actual and predicted rating\n",
        "    abs_dif = abs(user_ratings - predicted_ratings)\n",
        "    # number of non-nan values\n",
        "    n = np.sum(user_ratings.count()) \n",
        "    return abs_dif.sum().sum()/ n"
      ],
      "metadata": {
        "id": "SumgfUqYgr0X"
      },
      "execution_count": 85,
      "outputs": []
    },
    {
      "cell_type": "markdown",
      "source": [
        "# 獲取測試和訓練數據"
      ],
      "metadata": {
        "id": "dwnoofGMh5WK"
      }
    },
    {
      "cell_type": "code",
      "source": [
        "# Read user ratings for each movie from the `u.data` file \n",
        "# and get the names of the movies from the `u.item` file\n",
        "ua_train_path = '/content/drive/MyDrive/作業代工/movielens/input/ua.base'\n",
        "ua_test_path = '/content/drive/MyDrive/作業代工/movielens/input/ua.test'\n",
        "movie_info_path = '/content/drive/MyDrive/作業代工/movielens/input/u.item'\n",
        "user_ratings_train = pd.read_csv(ua_train_path,sep='\\t',names=['user_id','movie_id','rating'], usecols=[0,1,2])\n",
        "user_ratings_test = pd.read_csv(ua_test_pat,sep='\\t',names=['user_id','movie_id','rating'], usecols=[0,1,2])\n",
        "movie_info =  pd.read_csv(movie_info_path, sep='|', names=['movie_id','title'],usecols=[0,1],encoding=\"ISO-8859-1\")\n",
        "\n",
        "# Merge the information in one DataFrame\n",
        "user_ratings_train = pd.merge(movie_info, user_ratings_train)\n",
        "user_ratings_test = pd.merge(movie_info, user_ratings_test)\n",
        "\n",
        "# Create the user-item rating matrix. \n",
        "# Each row is a user, and the values are the user's ratings for each movie. \n",
        "# The movie titles are found in the columns\n",
        "user_ratings_train = user_ratings_train.pivot_table(index=['user_id'],\n",
        "                                        columns=['title'],\n",
        "                                        values='rating')\n",
        "\n",
        "user_ratings_test = user_ratings_test.pivot_table(index=['user_id'],\n",
        "                                        columns=['title'],\n",
        "                                        values='rating')\n",
        "\n",
        "print(user_ratings_train.shape)\n",
        "print(user_ratings_test.shape)"
      ],
      "metadata": {
        "colab": {
          "base_uri": "https://localhost:8080/"
        },
        "id": "mRm8KJBsh14-",
        "outputId": "68238925-e579-4c80-fc97-278030c36354"
      },
      "execution_count": 88,
      "outputs": [
        {
          "output_type": "stream",
          "name": "stdout",
          "text": [
            "(943, 1662)\n",
            "(943, 1119)\n"
          ]
        }
      ]
    },
    {
      "cell_type": "markdown",
      "source": [
        "Because of the memory based approach, the input of the system needs to include all the movies and users available. This is why we must reindex the train and test data to include the whole dataset"
      ],
      "metadata": {
        "id": "mNzNvaObikXy"
      }
    },
    {
      "cell_type": "code",
      "source": [
        "user_ratings_train = user_ratings_train.reindex(\n",
        "                            index=user_ratings_train.index.union(user_ratings_test.index), \n",
        "                            columns=user_ratings_train.columns.union(user_ratings_test.columns) )\n",
        "\n",
        "user_ratings_test = user_ratings_test.reindex(\n",
        "                            index=user_ratings_train.index.union(user_ratings_test.index), \n",
        "                            columns=user_ratings_train.columns.union(user_ratings_test.columns) )\n",
        "\n",
        "print(user_ratings_train.shape)\n",
        "print(user_ratings_test.shape)"
      ],
      "metadata": {
        "colab": {
          "base_uri": "https://localhost:8080/"
        },
        "id": "1ZqRUP52iUoX",
        "outputId": "26dc7be1-f6aa-4c26-ea6d-c0fae641108d"
      },
      "execution_count": 89,
      "outputs": [
        {
          "output_type": "stream",
          "name": "stdout",
          "text": [
            "(943, 1664)\n",
            "(943, 1664)\n"
          ]
        }
      ]
    },
    {
      "cell_type": "markdown",
      "source": [
        "# 超參數調整"
      ],
      "metadata": {
        "id": "f-dGoMd1isOU"
      }
    },
    {
      "cell_type": "markdown",
      "source": [
        "調整 min_periods n_neighbors\n"
      ],
      "metadata": {
        "id": "s51TBgRUi4lk"
      }
    },
    {
      "cell_type": "code",
      "source": [
        "scoreboard = []\n",
        "for min_periods in [3, 5, 10]:\n",
        "    for n_neighbors in [3 ,5, 10]:\n",
        "        # temporarily supress warnings\n",
        "        with warnings.catch_warnings():\n",
        "            warnings.simplefilter(\"ignore\")\n",
        "            pred, neighborhoods = recommendation_system_user_model(min_periods,n_neighbors,user_ratings_train)\n",
        "        # reindex predictions to include all users \n",
        "        # (some get filtered for not having enough neighbors)\n",
        "        pred = pred.reindex(index=user_ratings_train.index)\n",
        "        # MAE\n",
        "        error = mae(user_ratings_test, pred)\n",
        "        # percentage of movies not recommended to anyone (Only Nan ratings)\n",
        "        m_not_rec = (pred.notna().sum(axis=0) == 0).sum() / pred.columns.size * 100\n",
        "        # percentage of users without any recommendations\n",
        "        u_not_rec = (pred.notna().sum(axis=1) == 0).sum() / pred.index.size * 100\n",
        "        d = {\"Min Periods\": min_periods, \n",
        "             \"KNN\":n_neighbors,\"MAE\": error, \n",
        "             \"% of movies ignored\": m_not_rec, '% of users ignored': u_not_rec,\n",
        "             \"fill %\": df_fill_percentage(pred)}\n",
        "        scoreboard.append(d)\n",
        "scores = pd.DataFrame(scoreboard)\n",
        "scores"
      ],
      "metadata": {
        "colab": {
          "base_uri": "https://localhost:8080/",
          "height": 331
        },
        "id": "ZXoyswjtimFX",
        "outputId": "66a33e40-d0cf-4b1c-e7e7-87d9c09e536b"
      },
      "execution_count": 92,
      "outputs": [
        {
          "output_type": "execute_result",
          "data": {
            "text/plain": [
              "   Min Periods  KNN       MAE  % of movies ignored  % of users ignored  fill %\n",
              "0            3    3  0.233690             3.004808            0.000000    7.99\n",
              "1            3    5  0.321842             1.862981            0.000000   12.22\n",
              "2            3   10  0.439058             1.201923            0.000000   19.97\n",
              "3            5    3  0.324812             0.360577            0.000000   11.34\n",
              "4            5    5  0.404158             0.120192            0.000000   16.60\n",
              "5            5   10  0.517450             0.120192            0.000000   25.57\n",
              "6           10    3  0.432481             0.240385            4.453871   17.76\n",
              "7           10    5  0.490294             0.180288            6.468717   23.54\n",
              "8           10   10  0.562003             0.120192           10.180276   31.90"
            ],
            "text/html": [
              "\n",
              "  <div id=\"df-d067157c-462f-4586-b9e6-744bbb4a9bce\">\n",
              "    <div class=\"colab-df-container\">\n",
              "      <div>\n",
              "<style scoped>\n",
              "    .dataframe tbody tr th:only-of-type {\n",
              "        vertical-align: middle;\n",
              "    }\n",
              "\n",
              "    .dataframe tbody tr th {\n",
              "        vertical-align: top;\n",
              "    }\n",
              "\n",
              "    .dataframe thead th {\n",
              "        text-align: right;\n",
              "    }\n",
              "</style>\n",
              "<table border=\"1\" class=\"dataframe\">\n",
              "  <thead>\n",
              "    <tr style=\"text-align: right;\">\n",
              "      <th></th>\n",
              "      <th>Min Periods</th>\n",
              "      <th>KNN</th>\n",
              "      <th>MAE</th>\n",
              "      <th>% of movies ignored</th>\n",
              "      <th>% of users ignored</th>\n",
              "      <th>fill %</th>\n",
              "    </tr>\n",
              "  </thead>\n",
              "  <tbody>\n",
              "    <tr>\n",
              "      <th>0</th>\n",
              "      <td>3</td>\n",
              "      <td>3</td>\n",
              "      <td>0.233690</td>\n",
              "      <td>3.004808</td>\n",
              "      <td>0.000000</td>\n",
              "      <td>7.99</td>\n",
              "    </tr>\n",
              "    <tr>\n",
              "      <th>1</th>\n",
              "      <td>3</td>\n",
              "      <td>5</td>\n",
              "      <td>0.321842</td>\n",
              "      <td>1.862981</td>\n",
              "      <td>0.000000</td>\n",
              "      <td>12.22</td>\n",
              "    </tr>\n",
              "    <tr>\n",
              "      <th>2</th>\n",
              "      <td>3</td>\n",
              "      <td>10</td>\n",
              "      <td>0.439058</td>\n",
              "      <td>1.201923</td>\n",
              "      <td>0.000000</td>\n",
              "      <td>19.97</td>\n",
              "    </tr>\n",
              "    <tr>\n",
              "      <th>3</th>\n",
              "      <td>5</td>\n",
              "      <td>3</td>\n",
              "      <td>0.324812</td>\n",
              "      <td>0.360577</td>\n",
              "      <td>0.000000</td>\n",
              "      <td>11.34</td>\n",
              "    </tr>\n",
              "    <tr>\n",
              "      <th>4</th>\n",
              "      <td>5</td>\n",
              "      <td>5</td>\n",
              "      <td>0.404158</td>\n",
              "      <td>0.120192</td>\n",
              "      <td>0.000000</td>\n",
              "      <td>16.60</td>\n",
              "    </tr>\n",
              "    <tr>\n",
              "      <th>5</th>\n",
              "      <td>5</td>\n",
              "      <td>10</td>\n",
              "      <td>0.517450</td>\n",
              "      <td>0.120192</td>\n",
              "      <td>0.000000</td>\n",
              "      <td>25.57</td>\n",
              "    </tr>\n",
              "    <tr>\n",
              "      <th>6</th>\n",
              "      <td>10</td>\n",
              "      <td>3</td>\n",
              "      <td>0.432481</td>\n",
              "      <td>0.240385</td>\n",
              "      <td>4.453871</td>\n",
              "      <td>17.76</td>\n",
              "    </tr>\n",
              "    <tr>\n",
              "      <th>7</th>\n",
              "      <td>10</td>\n",
              "      <td>5</td>\n",
              "      <td>0.490294</td>\n",
              "      <td>0.180288</td>\n",
              "      <td>6.468717</td>\n",
              "      <td>23.54</td>\n",
              "    </tr>\n",
              "    <tr>\n",
              "      <th>8</th>\n",
              "      <td>10</td>\n",
              "      <td>10</td>\n",
              "      <td>0.562003</td>\n",
              "      <td>0.120192</td>\n",
              "      <td>10.180276</td>\n",
              "      <td>31.90</td>\n",
              "    </tr>\n",
              "  </tbody>\n",
              "</table>\n",
              "</div>\n",
              "      <button class=\"colab-df-convert\" onclick=\"convertToInteractive('df-d067157c-462f-4586-b9e6-744bbb4a9bce')\"\n",
              "              title=\"Convert this dataframe to an interactive table.\"\n",
              "              style=\"display:none;\">\n",
              "        \n",
              "  <svg xmlns=\"http://www.w3.org/2000/svg\" height=\"24px\"viewBox=\"0 0 24 24\"\n",
              "       width=\"24px\">\n",
              "    <path d=\"M0 0h24v24H0V0z\" fill=\"none\"/>\n",
              "    <path d=\"M18.56 5.44l.94 2.06.94-2.06 2.06-.94-2.06-.94-.94-2.06-.94 2.06-2.06.94zm-11 1L8.5 8.5l.94-2.06 2.06-.94-2.06-.94L8.5 2.5l-.94 2.06-2.06.94zm10 10l.94 2.06.94-2.06 2.06-.94-2.06-.94-.94-2.06-.94 2.06-2.06.94z\"/><path d=\"M17.41 7.96l-1.37-1.37c-.4-.4-.92-.59-1.43-.59-.52 0-1.04.2-1.43.59L10.3 9.45l-7.72 7.72c-.78.78-.78 2.05 0 2.83L4 21.41c.39.39.9.59 1.41.59.51 0 1.02-.2 1.41-.59l7.78-7.78 2.81-2.81c.8-.78.8-2.07 0-2.86zM5.41 20L4 18.59l7.72-7.72 1.47 1.35L5.41 20z\"/>\n",
              "  </svg>\n",
              "      </button>\n",
              "      \n",
              "  <style>\n",
              "    .colab-df-container {\n",
              "      display:flex;\n",
              "      flex-wrap:wrap;\n",
              "      gap: 12px;\n",
              "    }\n",
              "\n",
              "    .colab-df-convert {\n",
              "      background-color: #E8F0FE;\n",
              "      border: none;\n",
              "      border-radius: 50%;\n",
              "      cursor: pointer;\n",
              "      display: none;\n",
              "      fill: #1967D2;\n",
              "      height: 32px;\n",
              "      padding: 0 0 0 0;\n",
              "      width: 32px;\n",
              "    }\n",
              "\n",
              "    .colab-df-convert:hover {\n",
              "      background-color: #E2EBFA;\n",
              "      box-shadow: 0px 1px 2px rgba(60, 64, 67, 0.3), 0px 1px 3px 1px rgba(60, 64, 67, 0.15);\n",
              "      fill: #174EA6;\n",
              "    }\n",
              "\n",
              "    [theme=dark] .colab-df-convert {\n",
              "      background-color: #3B4455;\n",
              "      fill: #D2E3FC;\n",
              "    }\n",
              "\n",
              "    [theme=dark] .colab-df-convert:hover {\n",
              "      background-color: #434B5C;\n",
              "      box-shadow: 0px 1px 3px 1px rgba(0, 0, 0, 0.15);\n",
              "      filter: drop-shadow(0px 1px 2px rgba(0, 0, 0, 0.3));\n",
              "      fill: #FFFFFF;\n",
              "    }\n",
              "  </style>\n",
              "\n",
              "      <script>\n",
              "        const buttonEl =\n",
              "          document.querySelector('#df-d067157c-462f-4586-b9e6-744bbb4a9bce button.colab-df-convert');\n",
              "        buttonEl.style.display =\n",
              "          google.colab.kernel.accessAllowed ? 'block' : 'none';\n",
              "\n",
              "        async function convertToInteractive(key) {\n",
              "          const element = document.querySelector('#df-d067157c-462f-4586-b9e6-744bbb4a9bce');\n",
              "          const dataTable =\n",
              "            await google.colab.kernel.invokeFunction('convertToInteractive',\n",
              "                                                     [key], {});\n",
              "          if (!dataTable) return;\n",
              "\n",
              "          const docLinkHtml = 'Like what you see? Visit the ' +\n",
              "            '<a target=\"_blank\" href=https://colab.research.google.com/notebooks/data_table.ipynb>data table notebook</a>'\n",
              "            + ' to learn more about interactive tables.';\n",
              "          element.innerHTML = '';\n",
              "          dataTable['output_type'] = 'display_data';\n",
              "          await google.colab.output.renderOutput(dataTable, element);\n",
              "          const docLink = document.createElement('div');\n",
              "          docLink.innerHTML = docLinkHtml;\n",
              "          element.appendChild(docLink);\n",
              "        }\n",
              "      </script>\n",
              "    </div>\n",
              "  </div>\n",
              "  "
            ]
          },
          "metadata": {},
          "execution_count": 92
        }
      ]
    },
    {
      "cell_type": "markdown",
      "source": [
        "# 將以上功能包成函數方便使用"
      ],
      "metadata": {
        "id": "TaraWNyVkfMq"
      }
    },
    {
      "cell_type": "code",
      "source": [
        "def load_data(user_ratings_train_path,user_ratings_test_path,movie_info_path):\n",
        "  # Read user ratings for each movie from the `u.data` file \n",
        "  # and get the names of the movies from the `u.item` file\n",
        "  user_ratings_train = pd.read_csv(user_ratings_train_path,\n",
        "                              sep='\\t',names=['user_id','movie_id','rating'], usecols=[0,1,2])\n",
        "\n",
        "  user_ratings_test = pd.read_csv(user_ratings_test_path,\n",
        "                              sep='\\t',names=['user_id','movie_id','rating'], usecols=[0,1,2])\n",
        "\n",
        "  movie_info =  pd.read_csv(movie_info_path, \n",
        "                            sep='|', names=['movie_id','title'], \n",
        "                            usecols=[0,1],\n",
        "                            encoding=\"ISO-8859-1\")\n",
        "\n",
        "  # Merge the information in one DataFrame\n",
        "  user_ratings_train = pd.merge(movie_info, user_ratings_train)\n",
        "  user_ratings_test = pd.merge(movie_info, user_ratings_test)\n",
        "\n",
        "  # Create the user-item rating matrix. \n",
        "  # Each row is a user, and the values are the user's ratings for each movie. \n",
        "  # The movie titles are found in the columns\n",
        "  user_ratings_train = user_ratings_train.pivot_table(index=['user_id'],\n",
        "                                          columns=['title'],\n",
        "                                          values='rating')\n",
        "\n",
        "  user_ratings_test = user_ratings_test.pivot_table(index=['user_id'],\n",
        "                                          columns=['title'],\n",
        "                                          values='rating')\n",
        "  \n",
        "  user_ratings_train = user_ratings_train.reindex(\n",
        "                            index=user_ratings_train.index.union(user_ratings_test.index), \n",
        "                            columns=user_ratings_train.columns.union(user_ratings_test.columns) )\n",
        "\n",
        "  user_ratings_test = user_ratings_test.reindex(\n",
        "                            index=user_ratings_train.index.union(user_ratings_test.index), \n",
        "                            columns=user_ratings_train.columns.union(user_ratings_test.columns) )\n",
        "\n",
        "  return user_ratings_train,user_ratings_test\n",
        "\n",
        "def hyperparameter_search(user_ratings_train,user_ratings_test):\n",
        "  scoreboard = []\n",
        "  for min_periods in [3, 5]:\n",
        "      for n_neighbors in [3 ,5]:\n",
        "          # temporarily supress warnings\n",
        "          with warnings.catch_warnings():\n",
        "              warnings.simplefilter(\"ignore\")\n",
        "              pred, neighborhoods = recommendation_system_user_model(min_periods,n_neighbors,user_ratings_train)\n",
        "          # reindex predictions to include all users \n",
        "          # (some get filtered for not having enough neighbors)\n",
        "          pred = pred.reindex(index=user_ratings_train.index)\n",
        "          # MAE\n",
        "          error = mae(user_ratings_test, pred)\n",
        "          # percentage of movies not recommended to anyone (Only Nan ratings)\n",
        "          m_not_rec = (pred.notna().sum(axis=0) == 0).sum() / pred.columns.size * 100\n",
        "          # percentage of users without any recommendations\n",
        "          u_not_rec = (pred.notna().sum(axis=1) == 0).sum() / pred.index.size * 100\n",
        "          d = {\"Min Periods\": min_periods, \n",
        "              \"KNN\":n_neighbors,\"MAE\": error, \n",
        "              \"% of movies ignored\": m_not_rec, '% of users ignored': u_not_rec,\n",
        "              \"fill %\": df_fill_percentage(pred)}\n",
        "          scoreboard.append(d)\n",
        "  scores = pd.DataFrame(scoreboard)\n",
        "  return scores\n",
        "\n",
        "def pipeline(user_ratings_train_path,user_ratings_test_path,movie_info_path):\n",
        "  user_ratings_train,user_ratings_test = load_data(user_ratings_train_path,user_ratings_test_path,movie_info_path)\n",
        "  scores = hyperparameter_search(user_ratings_train,user_ratings_test)\n",
        "  return scores"
      ],
      "metadata": {
        "id": "b_s_Mzu3jW53"
      },
      "execution_count": 119,
      "outputs": []
    },
    {
      "cell_type": "code",
      "source": [
        "ub_train_path = '/content/drive/MyDrive/作業代工/movielens/input/ub.base'\n",
        "ub_test_path = '/content/drive/MyDrive/作業代工/movielens/input/ub.test'\n",
        "movie_info_path = '/content/drive/MyDrive/作業代工/movielens/input/u.item'\n",
        "pipeline(ub_train_path,ub_test_path,movie_info_path)"
      ],
      "metadata": {
        "colab": {
          "base_uri": "https://localhost:8080/",
          "height": 175
        },
        "id": "r97ddyNKmc-3",
        "outputId": "dde9f4a3-5c47-4521-ba72-da9d617961b9"
      },
      "execution_count": 120,
      "outputs": [
        {
          "output_type": "execute_result",
          "data": {
            "text/plain": [
              "   Min Periods  KNN       MAE  % of movies ignored  % of users ignored  fill %\n",
              "0            3    3  0.229675             2.824519                 0.0    8.24\n",
              "1            3    5  0.306623             1.923077                 0.0   12.43\n",
              "2            5    3  0.319624             2.163462                 0.0   11.22\n",
              "3            5    5  0.406973             0.600962                 0.0   16.37"
            ],
            "text/html": [
              "\n",
              "  <div id=\"df-d24fe3ce-d255-4260-94a3-2e3da6fc4b1d\">\n",
              "    <div class=\"colab-df-container\">\n",
              "      <div>\n",
              "<style scoped>\n",
              "    .dataframe tbody tr th:only-of-type {\n",
              "        vertical-align: middle;\n",
              "    }\n",
              "\n",
              "    .dataframe tbody tr th {\n",
              "        vertical-align: top;\n",
              "    }\n",
              "\n",
              "    .dataframe thead th {\n",
              "        text-align: right;\n",
              "    }\n",
              "</style>\n",
              "<table border=\"1\" class=\"dataframe\">\n",
              "  <thead>\n",
              "    <tr style=\"text-align: right;\">\n",
              "      <th></th>\n",
              "      <th>Min Periods</th>\n",
              "      <th>KNN</th>\n",
              "      <th>MAE</th>\n",
              "      <th>% of movies ignored</th>\n",
              "      <th>% of users ignored</th>\n",
              "      <th>fill %</th>\n",
              "    </tr>\n",
              "  </thead>\n",
              "  <tbody>\n",
              "    <tr>\n",
              "      <th>0</th>\n",
              "      <td>3</td>\n",
              "      <td>3</td>\n",
              "      <td>0.229675</td>\n",
              "      <td>2.824519</td>\n",
              "      <td>0.0</td>\n",
              "      <td>8.24</td>\n",
              "    </tr>\n",
              "    <tr>\n",
              "      <th>1</th>\n",
              "      <td>3</td>\n",
              "      <td>5</td>\n",
              "      <td>0.306623</td>\n",
              "      <td>1.923077</td>\n",
              "      <td>0.0</td>\n",
              "      <td>12.43</td>\n",
              "    </tr>\n",
              "    <tr>\n",
              "      <th>2</th>\n",
              "      <td>5</td>\n",
              "      <td>3</td>\n",
              "      <td>0.319624</td>\n",
              "      <td>2.163462</td>\n",
              "      <td>0.0</td>\n",
              "      <td>11.22</td>\n",
              "    </tr>\n",
              "    <tr>\n",
              "      <th>3</th>\n",
              "      <td>5</td>\n",
              "      <td>5</td>\n",
              "      <td>0.406973</td>\n",
              "      <td>0.600962</td>\n",
              "      <td>0.0</td>\n",
              "      <td>16.37</td>\n",
              "    </tr>\n",
              "  </tbody>\n",
              "</table>\n",
              "</div>\n",
              "      <button class=\"colab-df-convert\" onclick=\"convertToInteractive('df-d24fe3ce-d255-4260-94a3-2e3da6fc4b1d')\"\n",
              "              title=\"Convert this dataframe to an interactive table.\"\n",
              "              style=\"display:none;\">\n",
              "        \n",
              "  <svg xmlns=\"http://www.w3.org/2000/svg\" height=\"24px\"viewBox=\"0 0 24 24\"\n",
              "       width=\"24px\">\n",
              "    <path d=\"M0 0h24v24H0V0z\" fill=\"none\"/>\n",
              "    <path d=\"M18.56 5.44l.94 2.06.94-2.06 2.06-.94-2.06-.94-.94-2.06-.94 2.06-2.06.94zm-11 1L8.5 8.5l.94-2.06 2.06-.94-2.06-.94L8.5 2.5l-.94 2.06-2.06.94zm10 10l.94 2.06.94-2.06 2.06-.94-2.06-.94-.94-2.06-.94 2.06-2.06.94z\"/><path d=\"M17.41 7.96l-1.37-1.37c-.4-.4-.92-.59-1.43-.59-.52 0-1.04.2-1.43.59L10.3 9.45l-7.72 7.72c-.78.78-.78 2.05 0 2.83L4 21.41c.39.39.9.59 1.41.59.51 0 1.02-.2 1.41-.59l7.78-7.78 2.81-2.81c.8-.78.8-2.07 0-2.86zM5.41 20L4 18.59l7.72-7.72 1.47 1.35L5.41 20z\"/>\n",
              "  </svg>\n",
              "      </button>\n",
              "      \n",
              "  <style>\n",
              "    .colab-df-container {\n",
              "      display:flex;\n",
              "      flex-wrap:wrap;\n",
              "      gap: 12px;\n",
              "    }\n",
              "\n",
              "    .colab-df-convert {\n",
              "      background-color: #E8F0FE;\n",
              "      border: none;\n",
              "      border-radius: 50%;\n",
              "      cursor: pointer;\n",
              "      display: none;\n",
              "      fill: #1967D2;\n",
              "      height: 32px;\n",
              "      padding: 0 0 0 0;\n",
              "      width: 32px;\n",
              "    }\n",
              "\n",
              "    .colab-df-convert:hover {\n",
              "      background-color: #E2EBFA;\n",
              "      box-shadow: 0px 1px 2px rgba(60, 64, 67, 0.3), 0px 1px 3px 1px rgba(60, 64, 67, 0.15);\n",
              "      fill: #174EA6;\n",
              "    }\n",
              "\n",
              "    [theme=dark] .colab-df-convert {\n",
              "      background-color: #3B4455;\n",
              "      fill: #D2E3FC;\n",
              "    }\n",
              "\n",
              "    [theme=dark] .colab-df-convert:hover {\n",
              "      background-color: #434B5C;\n",
              "      box-shadow: 0px 1px 3px 1px rgba(0, 0, 0, 0.15);\n",
              "      filter: drop-shadow(0px 1px 2px rgba(0, 0, 0, 0.3));\n",
              "      fill: #FFFFFF;\n",
              "    }\n",
              "  </style>\n",
              "\n",
              "      <script>\n",
              "        const buttonEl =\n",
              "          document.querySelector('#df-d24fe3ce-d255-4260-94a3-2e3da6fc4b1d button.colab-df-convert');\n",
              "        buttonEl.style.display =\n",
              "          google.colab.kernel.accessAllowed ? 'block' : 'none';\n",
              "\n",
              "        async function convertToInteractive(key) {\n",
              "          const element = document.querySelector('#df-d24fe3ce-d255-4260-94a3-2e3da6fc4b1d');\n",
              "          const dataTable =\n",
              "            await google.colab.kernel.invokeFunction('convertToInteractive',\n",
              "                                                     [key], {});\n",
              "          if (!dataTable) return;\n",
              "\n",
              "          const docLinkHtml = 'Like what you see? Visit the ' +\n",
              "            '<a target=\"_blank\" href=https://colab.research.google.com/notebooks/data_table.ipynb>data table notebook</a>'\n",
              "            + ' to learn more about interactive tables.';\n",
              "          element.innerHTML = '';\n",
              "          dataTable['output_type'] = 'display_data';\n",
              "          await google.colab.output.renderOutput(dataTable, element);\n",
              "          const docLink = document.createElement('div');\n",
              "          docLink.innerHTML = docLinkHtml;\n",
              "          element.appendChild(docLink);\n",
              "        }\n",
              "      </script>\n",
              "    </div>\n",
              "  </div>\n",
              "  "
            ]
          },
          "metadata": {},
          "execution_count": 120
        }
      ]
    },
    {
      "cell_type": "code",
      "source": [
        "sns.catplot(data=scores, kind=\"bar\", x=\"KNN\", y=\"MAE\", hue=\"Min Periods\")"
      ],
      "metadata": {
        "colab": {
          "base_uri": "https://localhost:8080/",
          "height": 387
        },
        "id": "z3rW5W6bsJSW",
        "outputId": "a8e24ad6-8be3-460e-9113-0358a4fada0c"
      },
      "execution_count": 127,
      "outputs": [
        {
          "output_type": "execute_result",
          "data": {
            "text/plain": [
              "<seaborn.axisgrid.FacetGrid at 0x7fc9cc584490>"
            ]
          },
          "metadata": {},
          "execution_count": 127
        },
        {
          "output_type": "display_data",
          "data": {
            "text/plain": [
              "<Figure size 425.375x360 with 1 Axes>"
            ],
            "image/png": "[encoded data removed]"
          },
          "metadata": {}
        }
      ]
    },
    {
      "cell_type": "code",
      "source": [
        "sns.catplot(data=scores, kind=\"bar\", x=\"KNN\", y=\"fill %\", hue=\"Min Periods\")"
      ],
      "metadata": {
        "colab": {
          "base_uri": "https://localhost:8080/",
          "height": 387
        },
        "id": "XsPGLR62s2_F",
        "outputId": "75a3c918-5804-46e8-c70c-f9566c4606fc"
      },
      "execution_count": 128,
      "outputs": [
        {
          "output_type": "execute_result",
          "data": {
            "text/plain": [
              "<seaborn.axisgrid.FacetGrid at 0x7fc9cc7500d0>"
            ]
          },
          "metadata": {},
          "execution_count": 128
        },
        {
          "output_type": "display_data",
          "data": {
            "text/plain": [
              "<Figure size 425.375x360 with 1 Axes>"
            ],
            "image/png": "[encoded data removed]"
          },
          "metadata": {}
        }
      ]
    },
    {
      "cell_type": "code",
      "source": [
        "sns.catplot(data=scores, kind=\"bar\", x=\"KNN\", y=\"% of users ignored\", hue=\"Min Periods\")"
      ],
      "metadata": {
        "colab": {
          "base_uri": "https://localhost:8080/",
          "height": 387
        },
        "id": "kQzEs_LHtDcm",
        "outputId": "e89815c6-6f9e-4387-efaa-4a26b846de03"
      },
      "execution_count": 129,
      "outputs": [
        {
          "output_type": "execute_result",
          "data": {
            "text/plain": [
              "<seaborn.axisgrid.FacetGrid at 0x7fc9cfc5c7f0>"
            ]
          },
          "metadata": {},
          "execution_count": 129
        },
        {
          "output_type": "display_data",
          "data": {
            "text/plain": [
              "<Figure size 425.375x360 with 1 Axes>"
            ],
            "image/png": "[encoded data removed]"
          },
          "metadata": {}
        }
      ]
    },
    {
      "cell_type": "code",
      "source": [
        "sns.catplot(data=scores, kind=\"bar\", x=\"KNN\", y=\"% of movies ignored\", hue=\"Min Periods\")"
      ],
      "metadata": {
        "colab": {
          "base_uri": "https://localhost:8080/",
          "height": 387
        },
        "id": "k4t8MGJitGEG",
        "outputId": "fe21fd1c-66bf-43de-d048-3f91331419f5"
      },
      "execution_count": 130,
      "outputs": [
        {
          "output_type": "execute_result",
          "data": {
            "text/plain": [
              "<seaborn.axisgrid.FacetGrid at 0x7fc9cc4ad0a0>"
            ]
          },
          "metadata": {},
          "execution_count": 130
        },
        {
          "output_type": "display_data",
          "data": {
            "text/plain": [
              "<Figure size 425.375x360 with 1 Axes>"
            ],
            "image/png": "[encoded data removed]"
          },
          "metadata": {}
        }
      ]
    },
    {
      "cell_type": "markdown",
      "source": [
        "# 五次交叉驗證"
      ],
      "metadata": {
        "id": "nA-IspTLpGLj"
      }
    },
    {
      "cell_type": "code",
      "source": [
        "movie_info_path = '/content/drive/MyDrive/作業代工/movielens/input/u.item'\n",
        "u1_train_path = '/content/drive/MyDrive/作業代工/movielens/input/u1.base'\n",
        "u1_test_path = '/content/drive/MyDrive/作業代工/movielens/input/u1.test'\n",
        "u2_train_path = '/content/drive/MyDrive/作業代工/movielens/input/u2.base'\n",
        "u2_test_path = '/content/drive/MyDrive/作業代工/movielens/input/u2.test'\n",
        "u3_train_path = '/content/drive/MyDrive/作業代工/movielens/input/u3.base'\n",
        "u3_test_path = '/content/drive/MyDrive/作業代工/movielens/input/u3.test'\n",
        "u4_train_path = '/content/drive/MyDrive/作業代工/movielens/input/u4.base'\n",
        "u4_test_path = '/content/drive/MyDrive/作業代工/movielens/input/u4.test'\n",
        "u5_train_path = '/content/drive/MyDrive/作業代工/movielens/input/u5.base'\n",
        "u5_test_path = '/content/drive/MyDrive/作業代工/movielens/input/u5.test'"
      ],
      "metadata": {
        "id": "KEanIPTBnrIe"
      },
      "execution_count": 121,
      "outputs": []
    },
    {
      "cell_type": "markdown",
      "source": [
        "# Evaluating Predictions¶ u1"
      ],
      "metadata": {
        "id": "pEjIfvi6tkNa"
      }
    },
    {
      "cell_type": "code",
      "source": [
        "user_ratings_train,user_ratings_test = load_data(u1_train_path,u1_test_path,movie_info_path)\n",
        "pred_user, neighborhoods_user = recommendation_system_user_model(5, 10, user_ratings_train)\n",
        "pred_user = pred_user.reindex(index=user_ratings_train.index)\n",
        "# compare to the test set using MAE\n",
        "error = mae(user_ratings_test, pred_user)\n",
        "error"
      ],
      "metadata": {
        "colab": {
          "base_uri": "https://localhost:8080/"
        },
        "id": "RK11ZUFPtIJO",
        "outputId": "427e5694-1f4c-48f6-99ba-745e3651d368"
      },
      "execution_count": 135,
      "outputs": [
        {
          "output_type": "stream",
          "name": "stderr",
          "text": [
            "/usr/local/lib/python3.8/dist-packages/sklearn/neighbors/_base.py:199: EfficiencyWarning: Precomputed sparse input was not sorted by data.\n",
            "  warnings.warn(\n"
          ]
        },
        {
          "output_type": "execute_result",
          "data": {
            "text/plain": [
              "0.3987031195233088"
            ]
          },
          "metadata": {},
          "execution_count": 135
        }
      ]
    },
    {
      "cell_type": "code",
      "source": [
        "pred_user"
      ],
      "metadata": {
        "colab": {
          "base_uri": "https://localhost:8080/",
          "height": 568
        },
        "id": "qhklGTVnuKve",
        "outputId": "6530b1f1-4c55-40d3-b339-ac72cbc15638"
      },
      "execution_count": 136,
      "outputs": [
        {
          "output_type": "execute_result",
          "data": {
            "text/plain": [
              "title    'Til There Was You (1997)  1-900 (1994)  101 Dalmatians (1996)  \\\n",
              "user_id                                                                   \n",
              "1                              NaN           NaN                    NaN   \n",
              "2                              NaN           NaN                    NaN   \n",
              "3                              NaN           NaN                    2.0   \n",
              "4                              NaN           NaN                    3.0   \n",
              "5                              NaN           NaN                    NaN   \n",
              "...                            ...           ...                    ...   \n",
              "939                            NaN           NaN                    2.0   \n",
              "940                            NaN           NaN                    NaN   \n",
              "941                            NaN           NaN                    1.0   \n",
              "942                            NaN           NaN                    NaN   \n",
              "943                            NaN           NaN                    NaN   \n",
              "\n",
              "title    12 Angry Men (1957)  187 (1997)  2 Days in the Valley (1996)  \\\n",
              "user_id                                                                 \n",
              "1                        NaN         NaN                          4.0   \n",
              "2                        5.0         NaN                          NaN   \n",
              "3                        4.0         2.0                          2.0   \n",
              "4                        5.0         3.0                          3.0   \n",
              "5                        NaN         4.0                          3.0   \n",
              "...                      ...         ...                          ...   \n",
              "939                      4.0         4.0                          NaN   \n",
              "940                      NaN         2.0                          NaN   \n",
              "941                      4.0         NaN                          NaN   \n",
              "942                      4.0         NaN                          4.0   \n",
              "943                      NaN         NaN                          3.0   \n",
              "\n",
              "title    20,000 Leagues Under the Sea (1954)  2001: A Space Odyssey (1968)  \\\n",
              "user_id                                                                      \n",
              "1                                        NaN                           NaN   \n",
              "2                                        NaN                           4.0   \n",
              "3                                        4.0                           4.0   \n",
              "4                                        NaN                           NaN   \n",
              "5                                        NaN                           NaN   \n",
              "...                                      ...                           ...   \n",
              "939                                      4.0                           4.0   \n",
              "940                                      NaN                           NaN   \n",
              "941                                      3.0                           2.0   \n",
              "942                                      NaN                           2.0   \n",
              "943                                      NaN                           NaN   \n",
              "\n",
              "title    3 Ninjas: High Noon At Mega Mountain (1998)  39 Steps, The (1935)  \\\n",
              "user_id                                                                      \n",
              "1                                                NaN                   NaN   \n",
              "2                                                NaN                   NaN   \n",
              "3                                                NaN                   NaN   \n",
              "4                                                NaN                   5.0   \n",
              "5                                                NaN                   NaN   \n",
              "...                                              ...                   ...   \n",
              "939                                              NaN                   5.0   \n",
              "940                                              NaN                   NaN   \n",
              "941                                              NaN                   4.0   \n",
              "942                                              NaN                   NaN   \n",
              "943                                              NaN                   NaN   \n",
              "\n",
              "title    ...  Yankee Zulu (1994)  Year of the Horse (1997)  \\\n",
              "user_id  ...                                                 \n",
              "1        ...                 NaN                       NaN   \n",
              "2        ...                 NaN                       NaN   \n",
              "3        ...                 NaN                       NaN   \n",
              "4        ...                 NaN                       NaN   \n",
              "5        ...                 NaN                       NaN   \n",
              "...      ...                 ...                       ...   \n",
              "939      ...                 NaN                       NaN   \n",
              "940      ...                 NaN                       NaN   \n",
              "941      ...                 NaN                       NaN   \n",
              "942      ...                 NaN                       NaN   \n",
              "943      ...                 NaN                       NaN   \n",
              "\n",
              "title    You So Crazy (1994)  Young Frankenstein (1974)  Young Guns (1988)  \\\n",
              "user_id                                                                      \n",
              "1                        NaN                        NaN                NaN   \n",
              "2                        NaN                        NaN                1.0   \n",
              "3                        NaN                        4.0                4.0   \n",
              "4                        NaN                        NaN                NaN   \n",
              "5                        NaN                        NaN                NaN   \n",
              "...                      ...                        ...                ...   \n",
              "939                      NaN                        4.0                NaN   \n",
              "940                      NaN                        NaN                NaN   \n",
              "941                      NaN                        NaN                4.0   \n",
              "942                      NaN                        NaN                NaN   \n",
              "943                      NaN                        NaN                NaN   \n",
              "\n",
              "title    Young Guns II (1990)  Young Poisoner's Handbook, The (1995)  \\\n",
              "user_id                                                                \n",
              "1                         NaN                                    NaN   \n",
              "2                         1.0                                    NaN   \n",
              "3                         2.0                                    NaN   \n",
              "4                         NaN                                    3.0   \n",
              "5                         NaN                                    2.0   \n",
              "...                       ...                                    ...   \n",
              "939                       3.0                                    2.0   \n",
              "940                       NaN                                    NaN   \n",
              "941                       NaN                                    NaN   \n",
              "942                       NaN                                    NaN   \n",
              "943                       NaN                                    NaN   \n",
              "\n",
              "title    Zeus and Roxanne (1997)  unknown  Á köldum klaka (Cold Fever) (1994)  \n",
              "user_id                                                                        \n",
              "1                            NaN      NaN                                 NaN  \n",
              "2                            NaN      NaN                                 NaN  \n",
              "3                            NaN      NaN                                 NaN  \n",
              "4                            NaN      NaN                                 NaN  \n",
              "5                            3.0      NaN                                 NaN  \n",
              "...                          ...      ...                                 ...  \n",
              "939                          NaN      NaN                                 NaN  \n",
              "940                          NaN      NaN                                 NaN  \n",
              "941                          NaN      NaN                                 NaN  \n",
              "942                          NaN      NaN                                 NaN  \n",
              "943                          NaN      NaN                                 NaN  \n",
              "\n",
              "[943 rows x 1664 columns]"
            ],
            "text/html": [
              "\n",
              "  <div id=\"df-0ea4a5c1-7682-400b-9fa0-fe13c873ae4e\">\n",
              "    <div class=\"colab-df-container\">\n",
              "      <div>\n",
              "<style scoped>\n",
              "    .dataframe tbody tr th:only-of-type {\n",
              "        vertical-align: middle;\n",
              "    }\n",
              "\n",
              "    .dataframe tbody tr th {\n",
              "        vertical-align: top;\n",
              "    }\n",
              "\n",
              "    .dataframe thead th {\n",
              "        text-align: right;\n",
              "    }\n",
              "</style>\n",
              "<table border=\"1\" class=\"dataframe\">\n",
              "  <thead>\n",
              "    <tr style=\"text-align: right;\">\n",
              "      <th>title</th>\n",
              "      <th>'Til There Was You (1997)</th>\n",
              "      <th>1-900 (1994)</th>\n",
              "      <th>101 Dalmatians (1996)</th>\n",
              "      <th>12 Angry Men (1957)</th>\n",
              "      <th>187 (1997)</th>\n",
              "      <th>2 Days in the Valley (1996)</th>\n",
              "      <th>20,000 Leagues Under the Sea (1954)</th>\n",
              "      <th>2001: A Space Odyssey (1968)</th>\n",
              "      <th>3 Ninjas: High Noon At Mega Mountain (1998)</th>\n",
              "      <th>39 Steps, The (1935)</th>\n",
              "      <th>...</th>\n",
              "      <th>Yankee Zulu (1994)</th>\n",
              "      <th>Year of the Horse (1997)</th>\n",
              "      <th>You So Crazy (1994)</th>\n",
              "      <th>Young Frankenstein (1974)</th>\n",
              "      <th>Young Guns (1988)</th>\n",
              "      <th>Young Guns II (1990)</th>\n",
              "      <th>Young Poisoner's Handbook, The (1995)</th>\n",
              "      <th>Zeus and Roxanne (1997)</th>\n",
              "      <th>unknown</th>\n",
              "      <th>Á köldum klaka (Cold Fever) (1994)</th>\n",
              "    </tr>\n",
              "    <tr>\n",
              "      <th>user_id</th>\n",
              "      <th></th>\n",
              "      <th></th>\n",
              "      <th></th>\n",
              "      <th></th>\n",
              "      <th></th>\n",
              "      <th></th>\n",
              "      <th></th>\n",
              "      <th></th>\n",
              "      <th></th>\n",
              "      <th></th>\n",
              "      <th></th>\n",
              "      <th></th>\n",
              "      <th></th>\n",
              "      <th></th>\n",
              "      <th></th>\n",
              "      <th></th>\n",
              "      <th></th>\n",
              "      <th></th>\n",
              "      <th></th>\n",
              "      <th></th>\n",
              "      <th></th>\n",
              "    </tr>\n",
              "  </thead>\n",
              "  <tbody>\n",
              "    <tr>\n",
              "      <th>1</th>\n",
              "      <td>NaN</td>\n",
              "      <td>NaN</td>\n",
              "      <td>NaN</td>\n",
              "      <td>NaN</td>\n",
              "      <td>NaN</td>\n",
              "      <td>4.0</td>\n",
              "      <td>NaN</td>\n",
              "      <td>NaN</td>\n",
              "      <td>NaN</td>\n",
              "      <td>NaN</td>\n",
              "      <td>...</td>\n",
              "      <td>NaN</td>\n",
              "      <td>NaN</td>\n",
              "      <td>NaN</td>\n",
              "      <td>NaN</td>\n",
              "      <td>NaN</td>\n",
              "      <td>NaN</td>\n",
              "      <td>NaN</td>\n",
              "      <td>NaN</td>\n",
              "      <td>NaN</td>\n",
              "      <td>NaN</td>\n",
              "    </tr>\n",
              "    <tr>\n",
              "      <th>2</th>\n",
              "      <td>NaN</td>\n",
              "      <td>NaN</td>\n",
              "      <td>NaN</td>\n",
              "      <td>5.0</td>\n",
              "      <td>NaN</td>\n",
              "      <td>NaN</td>\n",
              "      <td>NaN</td>\n",
              "      <td>4.0</td>\n",
              "      <td>NaN</td>\n",
              "      <td>NaN</td>\n",
              "      <td>...</td>\n",
              "      <td>NaN</td>\n",
              "      <td>NaN</td>\n",
              "      <td>NaN</td>\n",
              "      <td>NaN</td>\n",
              "      <td>1.0</td>\n",
              "      <td>1.0</td>\n",
              "      <td>NaN</td>\n",
              "      <td>NaN</td>\n",
              "      <td>NaN</td>\n",
              "      <td>NaN</td>\n",
              "    </tr>\n",
              "    <tr>\n",
              "      <th>3</th>\n",
              "      <td>NaN</td>\n",
              "      <td>NaN</td>\n",
              "      <td>2.0</td>\n",
              "      <td>4.0</td>\n",
              "      <td>2.0</td>\n",
              "      <td>2.0</td>\n",
              "      <td>4.0</td>\n",
              "      <td>4.0</td>\n",
              "      <td>NaN</td>\n",
              "      <td>NaN</td>\n",
              "      <td>...</td>\n",
              "      <td>NaN</td>\n",
              "      <td>NaN</td>\n",
              "      <td>NaN</td>\n",
              "      <td>4.0</td>\n",
              "      <td>4.0</td>\n",
              "      <td>2.0</td>\n",
              "      <td>NaN</td>\n",
              "      <td>NaN</td>\n",
              "      <td>NaN</td>\n",
              "      <td>NaN</td>\n",
              "    </tr>\n",
              "    <tr>\n",
              "      <th>4</th>\n",
              "      <td>NaN</td>\n",
              "      <td>NaN</td>\n",
              "      <td>3.0</td>\n",
              "      <td>5.0</td>\n",
              "      <td>3.0</td>\n",
              "      <td>3.0</td>\n",
              "      <td>NaN</td>\n",
              "      <td>NaN</td>\n",
              "      <td>NaN</td>\n",
              "      <td>5.0</td>\n",
              "      <td>...</td>\n",
              "      <td>NaN</td>\n",
              "      <td>NaN</td>\n",
              "      <td>NaN</td>\n",
              "      <td>NaN</td>\n",
              "      <td>NaN</td>\n",
              "      <td>NaN</td>\n",
              "      <td>3.0</td>\n",
              "      <td>NaN</td>\n",
              "      <td>NaN</td>\n",
              "      <td>NaN</td>\n",
              "    </tr>\n",
              "    <tr>\n",
              "      <th>5</th>\n",
              "      <td>NaN</td>\n",
              "      <td>NaN</td>\n",
              "      <td>NaN</td>\n",
              "      <td>NaN</td>\n",
              "      <td>4.0</td>\n",
              "      <td>3.0</td>\n",
              "      <td>NaN</td>\n",
              "      <td>NaN</td>\n",
              "      <td>NaN</td>\n",
              "      <td>NaN</td>\n",
              "      <td>...</td>\n",
              "      <td>NaN</td>\n",
              "      <td>NaN</td>\n",
              "      <td>NaN</td>\n",
              "      <td>NaN</td>\n",
              "      <td>NaN</td>\n",
              "      <td>NaN</td>\n",
              "      <td>2.0</td>\n",
              "      <td>3.0</td>\n",
              "      <td>NaN</td>\n",
              "      <td>NaN</td>\n",
              "    </tr>\n",
              "    <tr>\n",
              "      <th>...</th>\n",
              "      <td>...</td>\n",
              "      <td>...</td>\n",
              "      <td>...</td>\n",
              "      <td>...</td>\n",
              "      <td>...</td>\n",
              "      <td>...</td>\n",
              "      <td>...</td>\n",
              "      <td>...</td>\n",
              "      <td>...</td>\n",
              "      <td>...</td>\n",
              "      <td>...</td>\n",
              "      <td>...</td>\n",
              "      <td>...</td>\n",
              "      <td>...</td>\n",
              "      <td>...</td>\n",
              "      <td>...</td>\n",
              "      <td>...</td>\n",
              "      <td>...</td>\n",
              "      <td>...</td>\n",
              "      <td>...</td>\n",
              "      <td>...</td>\n",
              "    </tr>\n",
              "    <tr>\n",
              "      <th>939</th>\n",
              "      <td>NaN</td>\n",
              "      <td>NaN</td>\n",
              "      <td>2.0</td>\n",
              "      <td>4.0</td>\n",
              "      <td>4.0</td>\n",
              "      <td>NaN</td>\n",
              "      <td>4.0</td>\n",
              "      <td>4.0</td>\n",
              "      <td>NaN</td>\n",
              "      <td>5.0</td>\n",
              "      <td>...</td>\n",
              "      <td>NaN</td>\n",
              "      <td>NaN</td>\n",
              "      <td>NaN</td>\n",
              "      <td>4.0</td>\n",
              "      <td>NaN</td>\n",
              "      <td>3.0</td>\n",
              "      <td>2.0</td>\n",
              "      <td>NaN</td>\n",
              "      <td>NaN</td>\n",
              "      <td>NaN</td>\n",
              "    </tr>\n",
              "    <tr>\n",
              "      <th>940</th>\n",
              "      <td>NaN</td>\n",
              "      <td>NaN</td>\n",
              "      <td>NaN</td>\n",
              "      <td>NaN</td>\n",
              "      <td>2.0</td>\n",
              "      <td>NaN</td>\n",
              "      <td>NaN</td>\n",
              "      <td>NaN</td>\n",
              "      <td>NaN</td>\n",
              "      <td>NaN</td>\n",
              "      <td>...</td>\n",
              "      <td>NaN</td>\n",
              "      <td>NaN</td>\n",
              "      <td>NaN</td>\n",
              "      <td>NaN</td>\n",
              "      <td>NaN</td>\n",
              "      <td>NaN</td>\n",
              "      <td>NaN</td>\n",
              "      <td>NaN</td>\n",
              "      <td>NaN</td>\n",
              "      <td>NaN</td>\n",
              "    </tr>\n",
              "    <tr>\n",
              "      <th>941</th>\n",
              "      <td>NaN</td>\n",
              "      <td>NaN</td>\n",
              "      <td>1.0</td>\n",
              "      <td>4.0</td>\n",
              "      <td>NaN</td>\n",
              "      <td>NaN</td>\n",
              "      <td>3.0</td>\n",
              "      <td>2.0</td>\n",
              "      <td>NaN</td>\n",
              "      <td>4.0</td>\n",
              "      <td>...</td>\n",
              "      <td>NaN</td>\n",
              "      <td>NaN</td>\n",
              "      <td>NaN</td>\n",
              "      <td>NaN</td>\n",
              "      <td>4.0</td>\n",
              "      <td>NaN</td>\n",
              "      <td>NaN</td>\n",
              "      <td>NaN</td>\n",
              "      <td>NaN</td>\n",
              "      <td>NaN</td>\n",
              "    </tr>\n",
              "    <tr>\n",
              "      <th>942</th>\n",
              "      <td>NaN</td>\n",
              "      <td>NaN</td>\n",
              "      <td>NaN</td>\n",
              "      <td>4.0</td>\n",
              "      <td>NaN</td>\n",
              "      <td>4.0</td>\n",
              "      <td>NaN</td>\n",
              "      <td>2.0</td>\n",
              "      <td>NaN</td>\n",
              "      <td>NaN</td>\n",
              "      <td>...</td>\n",
              "      <td>NaN</td>\n",
              "      <td>NaN</td>\n",
              "      <td>NaN</td>\n",
              "      <td>NaN</td>\n",
              "      <td>NaN</td>\n",
              "      <td>NaN</td>\n",
              "      <td>NaN</td>\n",
              "      <td>NaN</td>\n",
              "      <td>NaN</td>\n",
              "      <td>NaN</td>\n",
              "    </tr>\n",
              "    <tr>\n",
              "      <th>943</th>\n",
              "      <td>NaN</td>\n",
              "      <td>NaN</td>\n",
              "      <td>NaN</td>\n",
              "      <td>NaN</td>\n",
              "      <td>NaN</td>\n",
              "      <td>3.0</td>\n",
              "      <td>NaN</td>\n",
              "      <td>NaN</td>\n",
              "      <td>NaN</td>\n",
              "      <td>NaN</td>\n",
              "      <td>...</td>\n",
              "      <td>NaN</td>\n",
              "      <td>NaN</td>\n",
              "      <td>NaN</td>\n",
              "      <td>NaN</td>\n",
              "      <td>NaN</td>\n",
              "      <td>NaN</td>\n",
              "      <td>NaN</td>\n",
              "      <td>NaN</td>\n",
              "      <td>NaN</td>\n",
              "      <td>NaN</td>\n",
              "    </tr>\n",
              "  </tbody>\n",
              "</table>\n",
              "<p>943 rows × 1664 columns</p>\n",
              "</div>\n",
              "      <button class=\"colab-df-convert\" onclick=\"convertToInteractive('df-0ea4a5c1-7682-400b-9fa0-fe13c873ae4e')\"\n",
              "              title=\"Convert this dataframe to an interactive table.\"\n",
              "              style=\"display:none;\">\n",
              "        \n",
              "  <svg xmlns=\"http://www.w3.org/2000/svg\" height=\"24px\"viewBox=\"0 0 24 24\"\n",
              "       width=\"24px\">\n",
              "    <path d=\"M0 0h24v24H0V0z\" fill=\"none\"/>\n",
              "    <path d=\"M18.56 5.44l.94 2.06.94-2.06 2.06-.94-2.06-.94-.94-2.06-.94 2.06-2.06.94zm-11 1L8.5 8.5l.94-2.06 2.06-.94-2.06-.94L8.5 2.5l-.94 2.06-2.06.94zm10 10l.94 2.06.94-2.06 2.06-.94-2.06-.94-.94-2.06-.94 2.06-2.06.94z\"/><path d=\"M17.41 7.96l-1.37-1.37c-.4-.4-.92-.59-1.43-.59-.52 0-1.04.2-1.43.59L10.3 9.45l-7.72 7.72c-.78.78-.78 2.05 0 2.83L4 21.41c.39.39.9.59 1.41.59.51 0 1.02-.2 1.41-.59l7.78-7.78 2.81-2.81c.8-.78.8-2.07 0-2.86zM5.41 20L4 18.59l7.72-7.72 1.47 1.35L5.41 20z\"/>\n",
              "  </svg>\n",
              "      </button>\n",
              "      \n",
              "  <style>\n",
              "    .colab-df-container {\n",
              "      display:flex;\n",
              "      flex-wrap:wrap;\n",
              "      gap: 12px;\n",
              "    }\n",
              "\n",
              "    .colab-df-convert {\n",
              "      background-color: #E8F0FE;\n",
              "      border: none;\n",
              "      border-radius: 50%;\n",
              "      cursor: pointer;\n",
              "      display: none;\n",
              "      fill: #1967D2;\n",
              "      height: 32px;\n",
              "      padding: 0 0 0 0;\n",
              "      width: 32px;\n",
              "    }\n",
              "\n",
              "    .colab-df-convert:hover {\n",
              "      background-color: #E2EBFA;\n",
              "      box-shadow: 0px 1px 2px rgba(60, 64, 67, 0.3), 0px 1px 3px 1px rgba(60, 64, 67, 0.15);\n",
              "      fill: #174EA6;\n",
              "    }\n",
              "\n",
              "    [theme=dark] .colab-df-convert {\n",
              "      background-color: #3B4455;\n",
              "      fill: #D2E3FC;\n",
              "    }\n",
              "\n",
              "    [theme=dark] .colab-df-convert:hover {\n",
              "      background-color: #434B5C;\n",
              "      box-shadow: 0px 1px 3px 1px rgba(0, 0, 0, 0.15);\n",
              "      filter: drop-shadow(0px 1px 2px rgba(0, 0, 0, 0.3));\n",
              "      fill: #FFFFFF;\n",
              "    }\n",
              "  </style>\n",
              "\n",
              "      <script>\n",
              "        const buttonEl =\n",
              "          document.querySelector('#df-0ea4a5c1-7682-400b-9fa0-fe13c873ae4e button.colab-df-convert');\n",
              "        buttonEl.style.display =\n",
              "          google.colab.kernel.accessAllowed ? 'block' : 'none';\n",
              "\n",
              "        async function convertToInteractive(key) {\n",
              "          const element = document.querySelector('#df-0ea4a5c1-7682-400b-9fa0-fe13c873ae4e');\n",
              "          const dataTable =\n",
              "            await google.colab.kernel.invokeFunction('convertToInteractive',\n",
              "                                                     [key], {});\n",
              "          if (!dataTable) return;\n",
              "\n",
              "          const docLinkHtml = 'Like what you see? Visit the ' +\n",
              "            '<a target=\"_blank\" href=https://colab.research.google.com/notebooks/data_table.ipynb>data table notebook</a>'\n",
              "            + ' to learn more about interactive tables.';\n",
              "          element.innerHTML = '';\n",
              "          dataTable['output_type'] = 'display_data';\n",
              "          await google.colab.output.renderOutput(dataTable, element);\n",
              "          const docLink = document.createElement('div');\n",
              "          docLink.innerHTML = docLinkHtml;\n",
              "          element.appendChild(docLink);\n",
              "        }\n",
              "      </script>\n",
              "    </div>\n",
              "  </div>\n",
              "  "
            ]
          },
          "metadata": {},
          "execution_count": 136
        }
      ]
    },
    {
      "cell_type": "markdown",
      "source": [
        "下面我們可以看到用戶項目評分矩陣中計算值的百分比當然，計算值只是系統認為用戶將如何評價電影的預測。"
      ],
      "metadata": {
        "id": "SvKZC5ZrurPL"
      }
    },
    {
      "cell_type": "code",
      "source": [
        "df_fill_percentage(pred_user) - df_fill_percentage(user_ratings_train)"
      ],
      "metadata": {
        "colab": {
          "base_uri": "https://localhost:8080/"
        },
        "id": "_9xswgeGuk-1",
        "outputId": "e79dcb92-9d3f-4027-dcb3-315093795574"
      },
      "execution_count": 137,
      "outputs": [
        {
          "output_type": "execute_result",
          "data": {
            "text/plain": [
              "18.99"
            ]
          },
          "metadata": {},
          "execution_count": 137
        }
      ]
    },
    {
      "cell_type": "markdown",
      "source": [
        "讓我們檢查運行推薦系統前後每個用戶的評分數。"
      ],
      "metadata": {
        "id": "-Ma0X5kFu0sp"
      }
    },
    {
      "cell_type": "code",
      "source": [
        "sns.boxplot(data=[user_ratings_train.count(axis=1), pred_user.count(axis=1)])"
      ],
      "metadata": {
        "colab": {
          "base_uri": "https://localhost:8080/",
          "height": 283
        },
        "id": "w2JK2VZ-uvkG",
        "outputId": "16262e72-50ad-4890-a62c-6a7ea597b399"
      },
      "execution_count": 138,
      "outputs": [
        {
          "output_type": "execute_result",
          "data": {
            "text/plain": [
              "<matplotlib.axes._subplots.AxesSubplot at 0x7fc9cc867340>"
            ]
          },
          "metadata": {},
          "execution_count": 138
        },
        {
          "output_type": "display_data",
          "data": {
            "text/plain": [
              "<Figure size 432x288 with 1 Axes>"
            ],
            "image/png": "[encoded data removed]"
          },
          "metadata": {}
        }
      ]
    },
    {
      "cell_type": "markdown",
      "source": [
        "街區示例 下面我們看到 id 為 1 的用戶的鄰居，以及他們與用戶的相應距離"
      ],
      "metadata": {
        "id": "gewf10d4vB8H"
      }
    },
    {
      "cell_type": "code",
      "source": [
        "id1_neighbors = neighborhoods_user.loc[1]\n",
        "id1_neighbors"
      ],
      "metadata": {
        "colab": {
          "base_uri": "https://localhost:8080/"
        },
        "id": "w2aPn_Bdu8Em",
        "outputId": "9ef0ab20-7b9d-47ab-dac0-da5de12c47b0"
      },
      "execution_count": 140,
      "outputs": [
        {
          "output_type": "execute_result",
          "data": {
            "text/plain": [
              "neighborhood_ids       [227, 224, 142, 8, 135, 69, 329, 165, 37, 266]\n",
              "distance            [0.059247096395113164, 0.0871290708247231, 0.1...\n",
              "Name: 1, dtype: object"
            ]
          },
          "metadata": {},
          "execution_count": 140
        }
      ]
    },
    {
      "cell_type": "markdown",
      "source": [
        "讓我們檢查一下他們的評分與用戶的評分情況 刪除至少有三個非 NaN 值的所有列（以便我們進行比較）"
      ],
      "metadata": {
        "id": "uIUZeXvcvJCK"
      }
    },
    {
      "cell_type": "code",
      "source": [
        "user_ratings.loc[[1]+id1_neighbors['neighborhood_ids']].dropna(axis='columns', thresh=3)"
      ],
      "metadata": {
        "colab": {
          "base_uri": "https://localhost:8080/",
          "height": 551
        },
        "id": "0g-k5geovD4e",
        "outputId": "ba3dcf8d-7a12-404c-e1b0-8272bf978fd9"
      },
      "execution_count": 144,
      "outputs": [
        {
          "output_type": "execute_result",
          "data": {
            "text/plain": [
              "title    Air Force One (1997)  Alien (1979)  Aliens (1986)  Apollo 13 (1995)  \\\n",
              "user_id                                                                        \n",
              "1                         NaN           5.0            5.0               4.0   \n",
              "227                       NaN           NaN            NaN               NaN   \n",
              "224                       4.0           NaN            NaN               4.0   \n",
              "142                       NaN           NaN            5.0               4.0   \n",
              "8                         NaN           5.0            5.0               NaN   \n",
              "135                       NaN           4.0            4.0               NaN   \n",
              "69                        3.0           NaN            NaN               NaN   \n",
              "329                       4.0           NaN            NaN               NaN   \n",
              "165                       NaN           NaN            4.0               NaN   \n",
              "37                        NaN           4.0            4.0               NaN   \n",
              "266                       NaN           NaN            NaN               NaN   \n",
              "\n",
              "title    Batman (1989)  Bean (1997)  Beavis and Butt-head Do America (1996)  \\\n",
              "user_id                                                                       \n",
              "1                  NaN          NaN                                     3.0   \n",
              "227                NaN          NaN                                     1.0   \n",
              "224                4.0          NaN                                     NaN   \n",
              "142                NaN          2.0                                     NaN   \n",
              "8                  4.0          4.0                                     NaN   \n",
              "135                NaN          NaN                                     NaN   \n",
              "69                 NaN          NaN                                     3.0   \n",
              "329                NaN          2.0                                     NaN   \n",
              "165                NaN          NaN                                     NaN   \n",
              "37                 5.0          NaN                                     NaN   \n",
              "266                NaN          NaN                                     NaN   \n",
              "\n",
              "title    Big Night (1996)  Birdcage, The (1996)  Blade Runner (1982)  ...  \\\n",
              "user_id                                                               ...   \n",
              "1                     5.0                   4.0                  5.0  ...   \n",
              "227                   5.0                   4.0                  NaN  ...   \n",
              "224                   NaN                   NaN                  NaN  ...   \n",
              "142                   NaN                   NaN                  3.0  ...   \n",
              "8                     NaN                   NaN                  4.0  ...   \n",
              "135                   NaN                   NaN                  NaN  ...   \n",
              "69                    NaN                   NaN                  NaN  ...   \n",
              "329                   5.0                   NaN                  NaN  ...   \n",
              "165                   NaN                   NaN                  NaN  ...   \n",
              "37                    NaN                   NaN                  4.0  ...   \n",
              "266                   NaN                   3.0                  NaN  ...   \n",
              "\n",
              "title    Terminator, The (1984)  Time to Kill, A (1996)  Titanic (1997)  \\\n",
              "user_id                                                                   \n",
              "1                           5.0                     NaN             NaN   \n",
              "227                         NaN                     NaN             NaN   \n",
              "224                         NaN                     4.0             5.0   \n",
              "142                         NaN                     NaN             NaN   \n",
              "8                           5.0                     NaN             NaN   \n",
              "135                         NaN                     NaN             NaN   \n",
              "69                          NaN                     3.0             NaN   \n",
              "329                         NaN                     3.0             4.0   \n",
              "165                         NaN                     NaN             NaN   \n",
              "37                          5.0                     NaN             NaN   \n",
              "266                         NaN                     NaN             4.0   \n",
              "\n",
              "title    Trainspotting (1996)  True Romance (1993)  Twelve Monkeys (1995)  \\\n",
              "user_id                                                                     \n",
              "1                         NaN                  3.0                    4.0   \n",
              "227                       4.0                  NaN                    5.0   \n",
              "224                       NaN                  1.0                    NaN   \n",
              "142                       NaN                  NaN                    4.0   \n",
              "8                         NaN                  NaN                    3.0   \n",
              "135                       4.0                  NaN                    NaN   \n",
              "69                        3.0                  NaN                    5.0   \n",
              "329                       NaN                  NaN                    3.0   \n",
              "165                       NaN                  NaN                    NaN   \n",
              "37                        NaN                  4.0                    4.0   \n",
              "266                       NaN                  NaN                    NaN   \n",
              "\n",
              "title    Under Siege (1992)  Usual Suspects, The (1995)  White Squall (1996)  \\\n",
              "user_id                                                                        \n",
              "1                       2.0                         5.0                  NaN   \n",
              "227                     NaN                         NaN                  NaN   \n",
              "224                     NaN                         NaN                  3.0   \n",
              "142                     NaN                         NaN                  NaN   \n",
              "8                       4.0                         NaN                  NaN   \n",
              "135                     3.0                         4.0                  NaN   \n",
              "69                      NaN                         5.0                  NaN   \n",
              "329                     NaN                         4.0                  3.0   \n",
              "165                     NaN                         NaN                  NaN   \n",
              "37                      4.0                         NaN                  NaN   \n",
              "266                     NaN                         NaN                  2.0   \n",
              "\n",
              "title    Wrong Trousers, The (1993)  \n",
              "user_id                              \n",
              "1                               5.0  \n",
              "227                             NaN  \n",
              "224                             NaN  \n",
              "142                             5.0  \n",
              "8                               NaN  \n",
              "135                             NaN  \n",
              "69                              NaN  \n",
              "329                             4.0  \n",
              "165                             5.0  \n",
              "37                              NaN  \n",
              "266                             NaN  \n",
              "\n",
              "[11 rows x 91 columns]"
            ],
            "text/html": [
              "\n",
              "  <div id=\"df-ae07e32b-df1c-4ca3-9ecf-fb3b47c9f01e\">\n",
              "    <div class=\"colab-df-container\">\n",
              "      <div>\n",
              "<style scoped>\n",
              "    .dataframe tbody tr th:only-of-type {\n",
              "        vertical-align: middle;\n",
              "    }\n",
              "\n",
              "    .dataframe tbody tr th {\n",
              "        vertical-align: top;\n",
              "    }\n",
              "\n",
              "    .dataframe thead th {\n",
              "        text-align: right;\n",
              "    }\n",
              "</style>\n",
              "<table border=\"1\" class=\"dataframe\">\n",
              "  <thead>\n",
              "    <tr style=\"text-align: right;\">\n",
              "      <th>title</th>\n",
              "      <th>Air Force One (1997)</th>\n",
              "      <th>Alien (1979)</th>\n",
              "      <th>Aliens (1986)</th>\n",
              "      <th>Apollo 13 (1995)</th>\n",
              "      <th>Batman (1989)</th>\n",
              "      <th>Bean (1997)</th>\n",
              "      <th>Beavis and Butt-head Do America (1996)</th>\n",
              "      <th>Big Night (1996)</th>\n",
              "      <th>Birdcage, The (1996)</th>\n",
              "      <th>Blade Runner (1982)</th>\n",
              "      <th>...</th>\n",
              "      <th>Terminator, The (1984)</th>\n",
              "      <th>Time to Kill, A (1996)</th>\n",
              "      <th>Titanic (1997)</th>\n",
              "      <th>Trainspotting (1996)</th>\n",
              "      <th>True Romance (1993)</th>\n",
              "      <th>Twelve Monkeys (1995)</th>\n",
              "      <th>Under Siege (1992)</th>\n",
              "      <th>Usual Suspects, The (1995)</th>\n",
              "      <th>White Squall (1996)</th>\n",
              "      <th>Wrong Trousers, The (1993)</th>\n",
              "    </tr>\n",
              "    <tr>\n",
              "      <th>user_id</th>\n",
              "      <th></th>\n",
              "      <th></th>\n",
              "      <th></th>\n",
              "      <th></th>\n",
              "      <th></th>\n",
              "      <th></th>\n",
              "      <th></th>\n",
              "      <th></th>\n",
              "      <th></th>\n",
              "      <th></th>\n",
              "      <th></th>\n",
              "      <th></th>\n",
              "      <th></th>\n",
              "      <th></th>\n",
              "      <th></th>\n",
              "      <th></th>\n",
              "      <th></th>\n",
              "      <th></th>\n",
              "      <th></th>\n",
              "      <th></th>\n",
              "      <th></th>\n",
              "    </tr>\n",
              "  </thead>\n",
              "  <tbody>\n",
              "    <tr>\n",
              "      <th>1</th>\n",
              "      <td>NaN</td>\n",
              "      <td>5.0</td>\n",
              "      <td>5.0</td>\n",
              "      <td>4.0</td>\n",
              "      <td>NaN</td>\n",
              "      <td>NaN</td>\n",
              "      <td>3.0</td>\n",
              "      <td>5.0</td>\n",
              "      <td>4.0</td>\n",
              "      <td>5.0</td>\n",
              "      <td>...</td>\n",
              "      <td>5.0</td>\n",
              "      <td>NaN</td>\n",
              "      <td>NaN</td>\n",
              "      <td>NaN</td>\n",
              "      <td>3.0</td>\n",
              "      <td>4.0</td>\n",
              "      <td>2.0</td>\n",
              "      <td>5.0</td>\n",
              "      <td>NaN</td>\n",
              "      <td>5.0</td>\n",
              "    </tr>\n",
              "    <tr>\n",
              "      <th>227</th>\n",
              "      <td>NaN</td>\n",
              "      <td>NaN</td>\n",
              "      <td>NaN</td>\n",
              "      <td>NaN</td>\n",
              "      <td>NaN</td>\n",
              "      <td>NaN</td>\n",
              "      <td>1.0</td>\n",
              "      <td>5.0</td>\n",
              "      <td>4.0</td>\n",
              "      <td>NaN</td>\n",
              "      <td>...</td>\n",
              "      <td>NaN</td>\n",
              "      <td>NaN</td>\n",
              "      <td>NaN</td>\n",
              "      <td>4.0</td>\n",
              "      <td>NaN</td>\n",
              "      <td>5.0</td>\n",
              "      <td>NaN</td>\n",
              "      <td>NaN</td>\n",
              "      <td>NaN</td>\n",
              "      <td>NaN</td>\n",
              "    </tr>\n",
              "    <tr>\n",
              "      <th>224</th>\n",
              "      <td>4.0</td>\n",
              "      <td>NaN</td>\n",
              "      <td>NaN</td>\n",
              "      <td>4.0</td>\n",
              "      <td>4.0</td>\n",
              "      <td>NaN</td>\n",
              "      <td>NaN</td>\n",
              "      <td>NaN</td>\n",
              "      <td>NaN</td>\n",
              "      <td>NaN</td>\n",
              "      <td>...</td>\n",
              "      <td>NaN</td>\n",
              "      <td>4.0</td>\n",
              "      <td>5.0</td>\n",
              "      <td>NaN</td>\n",
              "      <td>1.0</td>\n",
              "      <td>NaN</td>\n",
              "      <td>NaN</td>\n",
              "      <td>NaN</td>\n",
              "      <td>3.0</td>\n",
              "      <td>NaN</td>\n",
              "    </tr>\n",
              "    <tr>\n",
              "      <th>142</th>\n",
              "      <td>NaN</td>\n",
              "      <td>NaN</td>\n",
              "      <td>5.0</td>\n",
              "      <td>4.0</td>\n",
              "      <td>NaN</td>\n",
              "      <td>2.0</td>\n",
              "      <td>NaN</td>\n",
              "      <td>NaN</td>\n",
              "      <td>NaN</td>\n",
              "      <td>3.0</td>\n",
              "      <td>...</td>\n",
              "      <td>NaN</td>\n",
              "      <td>NaN</td>\n",
              "      <td>NaN</td>\n",
              "      <td>NaN</td>\n",
              "      <td>NaN</td>\n",
              "      <td>4.0</td>\n",
              "      <td>NaN</td>\n",
              "      <td>NaN</td>\n",
              "      <td>NaN</td>\n",
              "      <td>5.0</td>\n",
              "    </tr>\n",
              "    <tr>\n",
              "      <th>8</th>\n",
              "      <td>NaN</td>\n",
              "      <td>5.0</td>\n",
              "      <td>5.0</td>\n",
              "      <td>NaN</td>\n",
              "      <td>4.0</td>\n",
              "      <td>4.0</td>\n",
              "      <td>NaN</td>\n",
              "      <td>NaN</td>\n",
              "      <td>NaN</td>\n",
              "      <td>4.0</td>\n",
              "      <td>...</td>\n",
              "      <td>5.0</td>\n",
              "      <td>NaN</td>\n",
              "      <td>NaN</td>\n",
              "      <td>NaN</td>\n",
              "      <td>NaN</td>\n",
              "      <td>3.0</td>\n",
              "      <td>4.0</td>\n",
              "      <td>NaN</td>\n",
              "      <td>NaN</td>\n",
              "      <td>NaN</td>\n",
              "    </tr>\n",
              "    <tr>\n",
              "      <th>135</th>\n",
              "      <td>NaN</td>\n",
              "      <td>4.0</td>\n",
              "      <td>4.0</td>\n",
              "      <td>NaN</td>\n",
              "      <td>NaN</td>\n",
              "      <td>NaN</td>\n",
              "      <td>NaN</td>\n",
              "      <td>NaN</td>\n",
              "      <td>NaN</td>\n",
              "      <td>NaN</td>\n",
              "      <td>...</td>\n",
              "      <td>NaN</td>\n",
              "      <td>NaN</td>\n",
              "      <td>NaN</td>\n",
              "      <td>4.0</td>\n",
              "      <td>NaN</td>\n",
              "      <td>NaN</td>\n",
              "      <td>3.0</td>\n",
              "      <td>4.0</td>\n",
              "      <td>NaN</td>\n",
              "      <td>NaN</td>\n",
              "    </tr>\n",
              "    <tr>\n",
              "      <th>69</th>\n",
              "      <td>3.0</td>\n",
              "      <td>NaN</td>\n",
              "      <td>NaN</td>\n",
              "      <td>NaN</td>\n",
              "      <td>NaN</td>\n",
              "      <td>NaN</td>\n",
              "      <td>3.0</td>\n",
              "      <td>NaN</td>\n",
              "      <td>NaN</td>\n",
              "      <td>NaN</td>\n",
              "      <td>...</td>\n",
              "      <td>NaN</td>\n",
              "      <td>3.0</td>\n",
              "      <td>NaN</td>\n",
              "      <td>3.0</td>\n",
              "      <td>NaN</td>\n",
              "      <td>5.0</td>\n",
              "      <td>NaN</td>\n",
              "      <td>5.0</td>\n",
              "      <td>NaN</td>\n",
              "      <td>NaN</td>\n",
              "    </tr>\n",
              "    <tr>\n",
              "      <th>329</th>\n",
              "      <td>4.0</td>\n",
              "      <td>NaN</td>\n",
              "      <td>NaN</td>\n",
              "      <td>NaN</td>\n",
              "      <td>NaN</td>\n",
              "      <td>2.0</td>\n",
              "      <td>NaN</td>\n",
              "      <td>5.0</td>\n",
              "      <td>NaN</td>\n",
              "      <td>NaN</td>\n",
              "      <td>...</td>\n",
              "      <td>NaN</td>\n",
              "      <td>3.0</td>\n",
              "      <td>4.0</td>\n",
              "      <td>NaN</td>\n",
              "      <td>NaN</td>\n",
              "      <td>3.0</td>\n",
              "      <td>NaN</td>\n",
              "      <td>4.0</td>\n",
              "      <td>3.0</td>\n",
              "      <td>4.0</td>\n",
              "    </tr>\n",
              "    <tr>\n",
              "      <th>165</th>\n",
              "      <td>NaN</td>\n",
              "      <td>NaN</td>\n",
              "      <td>4.0</td>\n",
              "      <td>NaN</td>\n",
              "      <td>NaN</td>\n",
              "      <td>NaN</td>\n",
              "      <td>NaN</td>\n",
              "      <td>NaN</td>\n",
              "      <td>NaN</td>\n",
              "      <td>NaN</td>\n",
              "      <td>...</td>\n",
              "      <td>NaN</td>\n",
              "      <td>NaN</td>\n",
              "      <td>NaN</td>\n",
              "      <td>NaN</td>\n",
              "      <td>NaN</td>\n",
              "      <td>NaN</td>\n",
              "      <td>NaN</td>\n",
              "      <td>NaN</td>\n",
              "      <td>NaN</td>\n",
              "      <td>5.0</td>\n",
              "    </tr>\n",
              "    <tr>\n",
              "      <th>37</th>\n",
              "      <td>NaN</td>\n",
              "      <td>4.0</td>\n",
              "      <td>4.0</td>\n",
              "      <td>NaN</td>\n",
              "      <td>5.0</td>\n",
              "      <td>NaN</td>\n",
              "      <td>NaN</td>\n",
              "      <td>NaN</td>\n",
              "      <td>NaN</td>\n",
              "      <td>4.0</td>\n",
              "      <td>...</td>\n",
              "      <td>5.0</td>\n",
              "      <td>NaN</td>\n",
              "      <td>NaN</td>\n",
              "      <td>NaN</td>\n",
              "      <td>4.0</td>\n",
              "      <td>4.0</td>\n",
              "      <td>4.0</td>\n",
              "      <td>NaN</td>\n",
              "      <td>NaN</td>\n",
              "      <td>NaN</td>\n",
              "    </tr>\n",
              "    <tr>\n",
              "      <th>266</th>\n",
              "      <td>NaN</td>\n",
              "      <td>NaN</td>\n",
              "      <td>NaN</td>\n",
              "      <td>NaN</td>\n",
              "      <td>NaN</td>\n",
              "      <td>NaN</td>\n",
              "      <td>NaN</td>\n",
              "      <td>NaN</td>\n",
              "      <td>3.0</td>\n",
              "      <td>NaN</td>\n",
              "      <td>...</td>\n",
              "      <td>NaN</td>\n",
              "      <td>NaN</td>\n",
              "      <td>4.0</td>\n",
              "      <td>NaN</td>\n",
              "      <td>NaN</td>\n",
              "      <td>NaN</td>\n",
              "      <td>NaN</td>\n",
              "      <td>NaN</td>\n",
              "      <td>2.0</td>\n",
              "      <td>NaN</td>\n",
              "    </tr>\n",
              "  </tbody>\n",
              "</table>\n",
              "<p>11 rows × 91 columns</p>\n",
              "</div>\n",
              "      <button class=\"colab-df-convert\" onclick=\"convertToInteractive('df-ae07e32b-df1c-4ca3-9ecf-fb3b47c9f01e')\"\n",
              "              title=\"Convert this dataframe to an interactive table.\"\n",
              "              style=\"display:none;\">\n",
              "        \n",
              "  <svg xmlns=\"http://www.w3.org/2000/svg\" height=\"24px\"viewBox=\"0 0 24 24\"\n",
              "       width=\"24px\">\n",
              "    <path d=\"M0 0h24v24H0V0z\" fill=\"none\"/>\n",
              "    <path d=\"M18.56 5.44l.94 2.06.94-2.06 2.06-.94-2.06-.94-.94-2.06-.94 2.06-2.06.94zm-11 1L8.5 8.5l.94-2.06 2.06-.94-2.06-.94L8.5 2.5l-.94 2.06-2.06.94zm10 10l.94 2.06.94-2.06 2.06-.94-2.06-.94-.94-2.06-.94 2.06-2.06.94z\"/><path d=\"M17.41 7.96l-1.37-1.37c-.4-.4-.92-.59-1.43-.59-.52 0-1.04.2-1.43.59L10.3 9.45l-7.72 7.72c-.78.78-.78 2.05 0 2.83L4 21.41c.39.39.9.59 1.41.59.51 0 1.02-.2 1.41-.59l7.78-7.78 2.81-2.81c.8-.78.8-2.07 0-2.86zM5.41 20L4 18.59l7.72-7.72 1.47 1.35L5.41 20z\"/>\n",
              "  </svg>\n",
              "      </button>\n",
              "      \n",
              "  <style>\n",
              "    .colab-df-container {\n",
              "      display:flex;\n",
              "      flex-wrap:wrap;\n",
              "      gap: 12px;\n",
              "    }\n",
              "\n",
              "    .colab-df-convert {\n",
              "      background-color: #E8F0FE;\n",
              "      border: none;\n",
              "      border-radius: 50%;\n",
              "      cursor: pointer;\n",
              "      display: none;\n",
              "      fill: #1967D2;\n",
              "      height: 32px;\n",
              "      padding: 0 0 0 0;\n",
              "      width: 32px;\n",
              "    }\n",
              "\n",
              "    .colab-df-convert:hover {\n",
              "      background-color: #E2EBFA;\n",
              "      box-shadow: 0px 1px 2px rgba(60, 64, 67, 0.3), 0px 1px 3px 1px rgba(60, 64, 67, 0.15);\n",
              "      fill: #174EA6;\n",
              "    }\n",
              "\n",
              "    [theme=dark] .colab-df-convert {\n",
              "      background-color: #3B4455;\n",
              "      fill: #D2E3FC;\n",
              "    }\n",
              "\n",
              "    [theme=dark] .colab-df-convert:hover {\n",
              "      background-color: #434B5C;\n",
              "      box-shadow: 0px 1px 3px 1px rgba(0, 0, 0, 0.15);\n",
              "      filter: drop-shadow(0px 1px 2px rgba(0, 0, 0, 0.3));\n",
              "      fill: #FFFFFF;\n",
              "    }\n",
              "  </style>\n",
              "\n",
              "      <script>\n",
              "        const buttonEl =\n",
              "          document.querySelector('#df-ae07e32b-df1c-4ca3-9ecf-fb3b47c9f01e button.colab-df-convert');\n",
              "        buttonEl.style.display =\n",
              "          google.colab.kernel.accessAllowed ? 'block' : 'none';\n",
              "\n",
              "        async function convertToInteractive(key) {\n",
              "          const element = document.querySelector('#df-ae07e32b-df1c-4ca3-9ecf-fb3b47c9f01e');\n",
              "          const dataTable =\n",
              "            await google.colab.kernel.invokeFunction('convertToInteractive',\n",
              "                                                     [key], {});\n",
              "          if (!dataTable) return;\n",
              "\n",
              "          const docLinkHtml = 'Like what you see? Visit the ' +\n",
              "            '<a target=\"_blank\" href=https://colab.research.google.com/notebooks/data_table.ipynb>data table notebook</a>'\n",
              "            + ' to learn more about interactive tables.';\n",
              "          element.innerHTML = '';\n",
              "          dataTable['output_type'] = 'display_data';\n",
              "          await google.colab.output.renderOutput(dataTable, element);\n",
              "          const docLink = document.createElement('div');\n",
              "          docLink.innerHTML = docLinkHtml;\n",
              "          element.appendChild(docLink);\n",
              "        }\n",
              "      </script>\n",
              "    </div>\n",
              "  </div>\n",
              "  "
            ]
          },
          "metadata": {},
          "execution_count": 144
        }
      ]
    },
    {
      "cell_type": "markdown",
      "source": [
        "我們可以觀察到 id 為 1 的用戶與他的鄰居有相似的品味。 例如，大多數人喜歡電影“外星人 (1986)”，並給它打了 5 或 4 星"
      ],
      "metadata": {
        "id": "6gNXfpXovfjF"
      }
    },
    {
      "cell_type": "markdown",
      "source": [
        "針對特定用戶的推薦示例 我們可以在下面看到，對於特定用戶（例如 ID 為 208 的用戶），最高未知評分（測試數據中的評分）與系統預測的評分相比如何"
      ],
      "metadata": {
        "id": "N3V4iUgvvoYt"
      }
    },
    {
      "cell_type": "code",
      "source": [
        "user_ratings_test.loc[208].sort_values(ascending=False)[:20]"
      ],
      "metadata": {
        "colab": {
          "base_uri": "https://localhost:8080/"
        },
        "id": "x4w4-9iXvTIm",
        "outputId": "958d5e7c-1d71-4a41-d300-58a94c776d37"
      },
      "execution_count": 145,
      "outputs": [
        {
          "output_type": "execute_result",
          "data": {
            "text/plain": [
              "title\n",
              "Graduate, The (1967)                         5.0\n",
              "Being There (1979)                           5.0\n",
              "When Harry Met Sally... (1989)               5.0\n",
              "Butch Cassidy and the Sundance Kid (1969)    5.0\n",
              "Sleepless in Seattle (1993)                  5.0\n",
              "M*A*S*H (1970)                               5.0\n",
              "Annie Hall (1977)                            4.0\n",
              "Somewhere in Time (1980)                     4.0\n",
              "Harold and Maude (1971)                      4.0\n",
              "Groundhog Day (1993)                         4.0\n",
              "Great Dictator, The (1940)                   4.0\n",
              "Ghost (1990)                                 4.0\n",
              "Duck Soup (1933)                             4.0\n",
              "Cool Hand Luke (1967)                        4.0\n",
              "Blues Brothers, The (1980)                   4.0\n",
              "Young Frankenstein (1974)                    4.0\n",
              "Back to the Future (1985)                    3.0\n",
              "Four Weddings and a Funeral (1994)           3.0\n",
              "Muriel's Wedding (1994)                      3.0\n",
              "Pulp Fiction (1994)                          2.0\n",
              "Name: 208, dtype: float64"
            ]
          },
          "metadata": {},
          "execution_count": 145
        }
      ]
    },
    {
      "cell_type": "code",
      "source": [
        "pred_user[user_ratings_test.loc[208].sort_values(ascending=False)[:20].index].loc[208]"
      ],
      "metadata": {
        "colab": {
          "base_uri": "https://localhost:8080/"
        },
        "id": "jBbtY8OJvqk-",
        "outputId": "ce31058a-9924-4b5a-b049-60a90e916890"
      },
      "execution_count": 146,
      "outputs": [
        {
          "output_type": "execute_result",
          "data": {
            "text/plain": [
              "title\n",
              "Graduate, The (1967)                         4.0\n",
              "Being There (1979)                           4.0\n",
              "When Harry Met Sally... (1989)               4.0\n",
              "Butch Cassidy and the Sundance Kid (1969)    5.0\n",
              "Sleepless in Seattle (1993)                  4.0\n",
              "M*A*S*H (1970)                               4.0\n",
              "Annie Hall (1977)                            3.0\n",
              "Somewhere in Time (1980)                     5.0\n",
              "Harold and Maude (1971)                      3.0\n",
              "Groundhog Day (1993)                         4.0\n",
              "Great Dictator, The (1940)                   NaN\n",
              "Ghost (1990)                                 4.0\n",
              "Duck Soup (1933)                             4.0\n",
              "Cool Hand Luke (1967)                        4.0\n",
              "Blues Brothers, The (1980)                   4.0\n",
              "Young Frankenstein (1974)                    5.0\n",
              "Back to the Future (1985)                    4.0\n",
              "Four Weddings and a Funeral (1994)           3.0\n",
              "Muriel's Wedding (1994)                      4.0\n",
              "Pulp Fiction (1994)                          4.0\n",
              "Name: 208, dtype: float64"
            ]
          },
          "metadata": {},
          "execution_count": 146
        }
      ]
    },
    {
      "cell_type": "markdown",
      "source": [
        "# Evaluating Predictions¶ u2"
      ],
      "metadata": {
        "id": "OosVJfAdv5TW"
      }
    },
    {
      "cell_type": "code",
      "source": [
        "user_ratings_train,user_ratings_test = load_data(u2_train_path,u2_test_path,movie_info_path)\n",
        "pred_user, neighborhoods_user = recommendation_system_user_model(5, 10, user_ratings_train)\n",
        "pred_user = pred_user.reindex(index=user_ratings_train.index)\n",
        "# compare to the test set using MAE\n",
        "error = mae(user_ratings_test, pred_user)\n",
        "print(error)\n",
        "display(user_ratings_test.loc[208].sort_values(ascending=False)[:20])\n",
        "display(pred_user[user_ratings_test.loc[208].sort_values(ascending=False)[:20].index].loc[208])"
      ],
      "metadata": {
        "colab": {
          "base_uri": "https://localhost:8080/",
          "height": 847
        },
        "id": "VvjHxkFGvtN2",
        "outputId": "136c0e7f-bfba-4dbc-b9b9-7c8f613e307b"
      },
      "execution_count": 151,
      "outputs": [
        {
          "output_type": "stream",
          "name": "stdout",
          "text": [
            "0.3666483159001051\n"
          ]
        },
        {
          "output_type": "display_data",
          "data": {
            "text/plain": [
              "title\n",
              "Bridges of Madison County, The (1995)          5.0\n",
              "Sting, The (1973)                              5.0\n",
              "Dances with Wolves (1990)                      4.0\n",
              "Pretty Woman (1990)                            4.0\n",
              "Rainmaker, The (1997)                          4.0\n",
              "Big Green, The (1995)                          3.0\n",
              "Manhattan (1979)                               3.0\n",
              "'Til There Was You (1997)                      NaN\n",
              "1-900 (1994)                                   NaN\n",
              "101 Dalmatians (1996)                          NaN\n",
              "12 Angry Men (1957)                            NaN\n",
              "187 (1997)                                     NaN\n",
              "2 Days in the Valley (1996)                    NaN\n",
              "20,000 Leagues Under the Sea (1954)            NaN\n",
              "2001: A Space Odyssey (1968)                   NaN\n",
              "3 Ninjas: High Noon At Mega Mountain (1998)    NaN\n",
              "39 Steps, The (1935)                           NaN\n",
              "8 1/2 (1963)                                   NaN\n",
              "8 Heads in a Duffel Bag (1997)                 NaN\n",
              "8 Seconds (1994)                               NaN\n",
              "Name: 208, dtype: float64"
            ]
          },
          "metadata": {}
        },
        {
          "output_type": "display_data",
          "data": {
            "text/plain": [
              "title\n",
              "Bridges of Madison County, The (1995)          NaN\n",
              "Sting, The (1973)                              4.0\n",
              "Dances with Wolves (1990)                      4.0\n",
              "Pretty Woman (1990)                            4.0\n",
              "Rainmaker, The (1997)                          4.0\n",
              "Big Green, The (1995)                          NaN\n",
              "Manhattan (1979)                               4.0\n",
              "'Til There Was You (1997)                      4.0\n",
              "1-900 (1994)                                   NaN\n",
              "101 Dalmatians (1996)                          3.0\n",
              "12 Angry Men (1957)                            NaN\n",
              "187 (1997)                                     NaN\n",
              "2 Days in the Valley (1996)                    NaN\n",
              "20,000 Leagues Under the Sea (1954)            NaN\n",
              "2001: A Space Odyssey (1968)                   4.0\n",
              "3 Ninjas: High Noon At Mega Mountain (1998)    NaN\n",
              "39 Steps, The (1935)                           NaN\n",
              "8 1/2 (1963)                                   5.0\n",
              "8 Heads in a Duffel Bag (1997)                 NaN\n",
              "8 Seconds (1994)                               NaN\n",
              "Name: 208, dtype: float64"
            ]
          },
          "metadata": {}
        }
      ]
    },
    {
      "cell_type": "markdown",
      "source": [
        "# Evaluating Predictions u3"
      ],
      "metadata": {
        "id": "DwBEuGPfwgxh"
      }
    },
    {
      "cell_type": "code",
      "source": [
        "user_ratings_train,user_ratings_test = load_data(u3_train_path,u3_test_path,movie_info_path)\n",
        "pred_user, neighborhoods_user = recommendation_system_user_model(5, 10, user_ratings_train)\n",
        "pred_user = pred_user.reindex(index=user_ratings_train.index)\n",
        "# compare to the test set using MAE\n",
        "error = mae(user_ratings_test, pred_user)\n",
        "print(error)\n",
        "display(user_ratings_test.loc[208].sort_values(ascending=False)[:20])\n",
        "display(pred_user[user_ratings_test.loc[208].sort_values(ascending=False)[:20].index].loc[208])"
      ],
      "metadata": {
        "colab": {
          "base_uri": "https://localhost:8080/",
          "height": 847
        },
        "id": "zZdZLQcdwE1I",
        "outputId": "649685df-2654-465b-b6dd-fea9bc75d68c"
      },
      "execution_count": 152,
      "outputs": [
        {
          "output_type": "stream",
          "name": "stdout",
          "text": [
            "0.3693269952464348\n"
          ]
        },
        {
          "output_type": "display_data",
          "data": {
            "text/plain": [
              "title\n",
              "While You Were Sleeping (1995)                 4.0\n",
              "Remains of the Day, The (1993)                 2.0\n",
              "'Til There Was You (1997)                      NaN\n",
              "1-900 (1994)                                   NaN\n",
              "101 Dalmatians (1996)                          NaN\n",
              "12 Angry Men (1957)                            NaN\n",
              "187 (1997)                                     NaN\n",
              "2 Days in the Valley (1996)                    NaN\n",
              "20,000 Leagues Under the Sea (1954)            NaN\n",
              "2001: A Space Odyssey (1968)                   NaN\n",
              "3 Ninjas: High Noon At Mega Mountain (1998)    NaN\n",
              "39 Steps, The (1935)                           NaN\n",
              "8 1/2 (1963)                                   NaN\n",
              "8 Heads in a Duffel Bag (1997)                 NaN\n",
              "8 Seconds (1994)                               NaN\n",
              "A Chef in Love (1996)                          NaN\n",
              "Above the Rim (1994)                           NaN\n",
              "Absolute Power (1997)                          NaN\n",
              "Abyss, The (1989)                              NaN\n",
              "Ace Ventura: Pet Detective (1994)              NaN\n",
              "Name: 208, dtype: float64"
            ]
          },
          "metadata": {}
        },
        {
          "output_type": "display_data",
          "data": {
            "text/plain": [
              "title\n",
              "While You Were Sleeping (1995)                 NaN\n",
              "Remains of the Day, The (1993)                 5.0\n",
              "'Til There Was You (1997)                      NaN\n",
              "1-900 (1994)                                   NaN\n",
              "101 Dalmatians (1996)                          3.0\n",
              "12 Angry Men (1957)                            NaN\n",
              "187 (1997)                                     NaN\n",
              "2 Days in the Valley (1996)                    NaN\n",
              "20,000 Leagues Under the Sea (1954)            NaN\n",
              "2001: A Space Odyssey (1968)                   4.0\n",
              "3 Ninjas: High Noon At Mega Mountain (1998)    NaN\n",
              "39 Steps, The (1935)                           NaN\n",
              "8 1/2 (1963)                                   NaN\n",
              "8 Heads in a Duffel Bag (1997)                 NaN\n",
              "8 Seconds (1994)                               NaN\n",
              "A Chef in Love (1996)                          NaN\n",
              "Above the Rim (1994)                           NaN\n",
              "Absolute Power (1997)                          NaN\n",
              "Abyss, The (1989)                              4.0\n",
              "Ace Ventura: Pet Detective (1994)              NaN\n",
              "Name: 208, dtype: float64"
            ]
          },
          "metadata": {}
        }
      ]
    },
    {
      "cell_type": "markdown",
      "source": [
        "# Evaluating Predictions u4"
      ],
      "metadata": {
        "id": "6QOGe6jKxADt"
      }
    },
    {
      "cell_type": "code",
      "source": [
        "user_ratings_train,user_ratings_test = load_data(u4_train_path,u4_test_path,movie_info_path)\n",
        "pred_user, neighborhoods_user = recommendation_system_user_model(5, 10, user_ratings_train)\n",
        "pred_user = pred_user.reindex(index=user_ratings_train.index)\n",
        "# compare to the test set using MAE\n",
        "error = mae(user_ratings_test, pred_user)\n",
        "print(error)\n",
        "display(user_ratings_test.loc[208].sort_values(ascending=False)[:20])\n",
        "display(pred_user[user_ratings_test.loc[208].sort_values(ascending=False)[:20].index].loc[208])"
      ],
      "metadata": {
        "colab": {
          "base_uri": "https://localhost:8080/",
          "height": 847
        },
        "id": "31XT9091wm5G",
        "outputId": "78ee8430-3ca0-4449-e936-aaa78f46887a"
      },
      "execution_count": 153,
      "outputs": [
        {
          "output_type": "stream",
          "name": "stdout",
          "text": [
            "0.38676176176176175\n"
          ]
        },
        {
          "output_type": "display_data",
          "data": {
            "text/plain": [
              "title\n",
              "'Til There Was You (1997)                     NaN\n",
              "1-900 (1994)                                  NaN\n",
              "101 Dalmatians (1996)                         NaN\n",
              "12 Angry Men (1957)                           NaN\n",
              "187 (1997)                                    NaN\n",
              "2 Days in the Valley (1996)                   NaN\n",
              "20,000 Leagues Under the Sea (1954)           NaN\n",
              "2001: A Space Odyssey (1968)                  NaN\n",
              "3 Ninjas: High Noon At Mega Mountain (1998)   NaN\n",
              "39 Steps, The (1935)                          NaN\n",
              "8 1/2 (1963)                                  NaN\n",
              "8 Heads in a Duffel Bag (1997)                NaN\n",
              "8 Seconds (1994)                              NaN\n",
              "A Chef in Love (1996)                         NaN\n",
              "Above the Rim (1994)                          NaN\n",
              "Absolute Power (1997)                         NaN\n",
              "Abyss, The (1989)                             NaN\n",
              "Ace Ventura: Pet Detective (1994)             NaN\n",
              "Ace Ventura: When Nature Calls (1995)         NaN\n",
              "Across the Sea of Time (1995)                 NaN\n",
              "Name: 208, dtype: float64"
            ]
          },
          "metadata": {}
        },
        {
          "output_type": "display_data",
          "data": {
            "text/plain": [
              "title\n",
              "'Til There Was You (1997)                      NaN\n",
              "1-900 (1994)                                   NaN\n",
              "101 Dalmatians (1996)                          2.0\n",
              "12 Angry Men (1957)                            4.0\n",
              "187 (1997)                                     NaN\n",
              "2 Days in the Valley (1996)                    NaN\n",
              "20,000 Leagues Under the Sea (1954)            NaN\n",
              "2001: A Space Odyssey (1968)                   3.0\n",
              "3 Ninjas: High Noon At Mega Mountain (1998)    NaN\n",
              "39 Steps, The (1935)                           4.0\n",
              "8 1/2 (1963)                                   5.0\n",
              "8 Heads in a Duffel Bag (1997)                 NaN\n",
              "8 Seconds (1994)                               NaN\n",
              "A Chef in Love (1996)                          NaN\n",
              "Above the Rim (1994)                           NaN\n",
              "Absolute Power (1997)                          NaN\n",
              "Abyss, The (1989)                              3.0\n",
              "Ace Ventura: Pet Detective (1994)              3.0\n",
              "Ace Ventura: When Nature Calls (1995)          3.0\n",
              "Across the Sea of Time (1995)                  NaN\n",
              "Name: 208, dtype: float64"
            ]
          },
          "metadata": {}
        }
      ]
    },
    {
      "cell_type": "markdown",
      "source": [
        "# Evaluating Predictions u5"
      ],
      "metadata": {
        "id": "AaKHct3ixp5X"
      }
    },
    {
      "cell_type": "code",
      "source": [
        "user_ratings_train,user_ratings_test = load_data(u5_train_path,u5_test_path,movie_info_path)\n",
        "pred_user, neighborhoods_user = recommendation_system_user_model(5, 10, user_ratings_train)\n",
        "pred_user = pred_user.reindex(index=user_ratings_train.index)\n",
        "# compare to the test set using MAE\n",
        "error = mae(user_ratings_test, pred_user)\n",
        "print(error)\n",
        "display(user_ratings_test.loc[208].sort_values(ascending=False)[:20])\n",
        "display(pred_user[user_ratings_test.loc[208].sort_values(ascending=False)[:20].index].loc[208])"
      ],
      "metadata": {
        "colab": {
          "base_uri": "https://localhost:8080/",
          "height": 847
        },
        "id": "dUE0QsZOxGiO",
        "outputId": "0377ed44-0b1a-471b-8f9a-b3f22ba070c6"
      },
      "execution_count": 154,
      "outputs": [
        {
          "output_type": "stream",
          "name": "stdout",
          "text": [
            "0.4105015517068776\n"
          ]
        },
        {
          "output_type": "display_data",
          "data": {
            "text/plain": [
              "title\n",
              "Mrs. Doubtfire (1993)                          4.0\n",
              "French Kiss (1995)                             3.0\n",
              "'Til There Was You (1997)                      NaN\n",
              "1-900 (1994)                                   NaN\n",
              "101 Dalmatians (1996)                          NaN\n",
              "12 Angry Men (1957)                            NaN\n",
              "187 (1997)                                     NaN\n",
              "2 Days in the Valley (1996)                    NaN\n",
              "20,000 Leagues Under the Sea (1954)            NaN\n",
              "2001: A Space Odyssey (1968)                   NaN\n",
              "3 Ninjas: High Noon At Mega Mountain (1998)    NaN\n",
              "39 Steps, The (1935)                           NaN\n",
              "8 1/2 (1963)                                   NaN\n",
              "8 Heads in a Duffel Bag (1997)                 NaN\n",
              "8 Seconds (1994)                               NaN\n",
              "A Chef in Love (1996)                          NaN\n",
              "Above the Rim (1994)                           NaN\n",
              "Absolute Power (1997)                          NaN\n",
              "Abyss, The (1989)                              NaN\n",
              "Ace Ventura: Pet Detective (1994)              NaN\n",
              "Name: 208, dtype: float64"
            ]
          },
          "metadata": {}
        },
        {
          "output_type": "display_data",
          "data": {
            "text/plain": [
              "title\n",
              "Mrs. Doubtfire (1993)                          3.0\n",
              "French Kiss (1995)                             3.0\n",
              "'Til There Was You (1997)                      NaN\n",
              "1-900 (1994)                                   NaN\n",
              "101 Dalmatians (1996)                          4.0\n",
              "12 Angry Men (1957)                            4.0\n",
              "187 (1997)                                     3.0\n",
              "2 Days in the Valley (1996)                    NaN\n",
              "20,000 Leagues Under the Sea (1954)            4.0\n",
              "2001: A Space Odyssey (1968)                   4.0\n",
              "3 Ninjas: High Noon At Mega Mountain (1998)    NaN\n",
              "39 Steps, The (1935)                           4.0\n",
              "8 1/2 (1963)                                   NaN\n",
              "8 Heads in a Duffel Bag (1997)                 NaN\n",
              "8 Seconds (1994)                               NaN\n",
              "A Chef in Love (1996)                          NaN\n",
              "Above the Rim (1994)                           NaN\n",
              "Absolute Power (1997)                          NaN\n",
              "Abyss, The (1989)                              4.0\n",
              "Ace Ventura: Pet Detective (1994)              NaN\n",
              "Name: 208, dtype: float64"
            ]
          },
          "metadata": {}
        }
      ]
    },
    {
      "cell_type": "markdown",
      "source": [
        "# 跑完u1到u5結果大約平均mae在0.39左右 test_anser跟pred_anser的rating 差異不大 然後資料上有許多電影是用戶沒有評分的\n",
        "可以從下圖看出平分數高的電影很少"
      ],
      "metadata": {
        "id": "6p9z3e9nx-U9"
      }
    },
    {
      "cell_type": "code",
      "source": [
        "user_ratings.count(axis=1).plot(kind='hist')"
      ],
      "metadata": {
        "colab": {
          "base_uri": "https://localhost:8080/",
          "height": 283
        },
        "id": "48f-o9MmxzXa",
        "outputId": "f2f84f45-813e-4f9d-8013-468e5abfc02a"
      },
      "execution_count": 155,
      "outputs": [
        {
          "output_type": "execute_result",
          "data": {
            "text/plain": [
              "<matplotlib.axes._subplots.AxesSubplot at 0x7fc9cc86ba60>"
            ]
          },
          "metadata": {},
          "execution_count": 155
        },
        {
          "output_type": "display_data",
          "data": {
            "text/plain": [
              "<Figure size 432x288 with 1 Axes>"
            ],
            "image/png": "[encoded data removed]"
          },
          "metadata": {}
        }
      ]
    },
    {
      "cell_type": "code",
      "source": [],
      "metadata": {
        "id": "K8hXKiPdy1f2"
      },
      "execution_count": null,
      "outputs": []
    }
  ]
}