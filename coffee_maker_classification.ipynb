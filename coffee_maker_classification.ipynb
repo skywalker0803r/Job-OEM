{
  "nbformat": 4,
  "nbformat_minor": 0,
  "metadata": {
    "colab": {
      "provenance": [],
      "mount_file_id": "1k9QNjkWpBtwrB9g6anrnE-pR1AIYGczl",
      "authorship_tag": "ABX9TyMXEbfIcgNgOMz7QMlPYuK5",
      "include_colab_link": true
    },
    "kernelspec": {
      "name": "python3",
      "display_name": "Python 3"
    },
    "language_info": {
      "name": "python"
    }
  },
  "cells": [
    {
      "cell_type": "markdown",
      "metadata": {
        "id": "view-in-github",
        "colab_type": "text"
      },
      "source": [
        "<a href=\"https://colab.research.google.com/github/skywalker0803r/Job-OEM/blob/main/coffee_maker_classification.ipynb\" target=\"_parent\"><img src=\"https://colab.research.google.com/assets/colab-badge.svg\" alt=\"Open In Colab\"/></a>"
      ]
    },
    {
      "cell_type": "code",
      "execution_count": 16,
      "metadata": {
        "id": "8Lk3unuapC7N"
      },
      "outputs": [],
      "source": [
        "import numpy as np \n",
        "import pandas as pd \n",
        "import matplotlib.pyplot as plt\n",
        "from nltk.corpus import stopwords\n",
        "from sklearn.pipeline import Pipeline\n",
        "from sklearn.feature_extraction.text import CountVectorizer\n",
        "from sklearn.feature_extraction.text import TfidfVectorizer\n",
        "from sklearn.linear_model import LogisticRegression\n",
        "from sklearn.neural_network import MLPClassifier\n",
        "import tensorflow as tf\n",
        "from tensorflow.keras.layers import Input, Dense\n",
        "from sklearn import svm\n",
        "from sklearn.model_selection import train_test_split\n",
        "from xgboost import XGBClassifier\n",
        "from sklearn.metrics import classification_report, recall_score, precision_score, f1_score, roc_curve, auc, precision_recall_curve"
      ]
    },
    {
      "cell_type": "code",
      "source": [
        "df = pd.read_csv('/content/drive/MyDrive/作業代工/coffee-maker-classification/coffee_maker.csv')\n",
        "df"
      ],
      "metadata": {
        "colab": {
          "base_uri": "https://localhost:8080/",
          "height": 424
        },
        "id": "Mid1xvGGpUTJ",
        "outputId": "c40c0079-29bc-41e7-9236-9eb27709d609"
      },
      "execution_count": 17,
      "outputs": [
        {
          "output_type": "execute_result",
          "data": {
            "text/plain": [
              "            review_date              handle  rating helpfulness_rating  \\\n",
              "0        April 14, 2018         The Dolphin     2.0                513   \n",
              "1      February 7, 2019  Karen Kaffenberger     1.0                122   \n",
              "2     December 23, 2017             C1C3C11     4.0                185   \n",
              "3     November 26, 2016        Paul Roberts     5.0                224   \n",
              "4     November 28, 2017              JennyD     3.0                116   \n",
              "...                 ...                 ...     ...                ...   \n",
              "4995   February 4, 2014              shashi     5.0                NaN   \n",
              "4996        May 2, 2019        Connie Krusi     1.0                NaN   \n",
              "4997    August 28, 2014                  KL     5.0                NaN   \n",
              "4998  December 16, 2019               Nancy     2.0                NaN   \n",
              "4999      July 15, 2016      Roxanna Norman     5.0                NaN   \n",
              "\n",
              "                                                 review  \n",
              "0     Delightful coffee maker if you’re only looking...  \n",
              "1     UPDATE: Bought this 10-21-18 and I finally ret...  \n",
              "2     The big reason I ordered this was because I wa...  \n",
              "3     I've owned several of their older brewstation ...  \n",
              "4     I agonized over which coffee maker to purchase...  \n",
              "...                                                 ...  \n",
              "4995  Our Mr. Coffee machine stopped working one day...  \n",
              "4996  This is the second generation of this product ...  \n",
              "4997  Wow works great and bought it for a bargain wi...  \n",
              "4998  Doesn’t brew correctly need to start to get al...  \n",
              "4999  Love my new coffee pot easy to use and keeps m...  \n",
              "\n",
              "[5000 rows x 5 columns]"
            ],
            "text/html": [
              "\n",
              "  <div id=\"df-ea9440d7-8f89-4334-82f3-c2b2f7a48ba4\">\n",
              "    <div class=\"colab-df-container\">\n",
              "      <div>\n",
              "<style scoped>\n",
              "    .dataframe tbody tr th:only-of-type {\n",
              "        vertical-align: middle;\n",
              "    }\n",
              "\n",
              "    .dataframe tbody tr th {\n",
              "        vertical-align: top;\n",
              "    }\n",
              "\n",
              "    .dataframe thead th {\n",
              "        text-align: right;\n",
              "    }\n",
              "</style>\n",
              "<table border=\"1\" class=\"dataframe\">\n",
              "  <thead>\n",
              "    <tr style=\"text-align: right;\">\n",
              "      <th></th>\n",
              "      <th>review_date</th>\n",
              "      <th>handle</th>\n",
              "      <th>rating</th>\n",
              "      <th>helpfulness_rating</th>\n",
              "      <th>review</th>\n",
              "    </tr>\n",
              "  </thead>\n",
              "  <tbody>\n",
              "    <tr>\n",
              "      <th>0</th>\n",
              "      <td>April 14, 2018</td>\n",
              "      <td>The Dolphin</td>\n",
              "      <td>2.0</td>\n",
              "      <td>513</td>\n",
              "      <td>Delightful coffee maker if you’re only looking...</td>\n",
              "    </tr>\n",
              "    <tr>\n",
              "      <th>1</th>\n",
              "      <td>February 7, 2019</td>\n",
              "      <td>Karen Kaffenberger</td>\n",
              "      <td>1.0</td>\n",
              "      <td>122</td>\n",
              "      <td>UPDATE: Bought this 10-21-18 and I finally ret...</td>\n",
              "    </tr>\n",
              "    <tr>\n",
              "      <th>2</th>\n",
              "      <td>December 23, 2017</td>\n",
              "      <td>C1C3C11</td>\n",
              "      <td>4.0</td>\n",
              "      <td>185</td>\n",
              "      <td>The big reason I ordered this was because I wa...</td>\n",
              "    </tr>\n",
              "    <tr>\n",
              "      <th>3</th>\n",
              "      <td>November 26, 2016</td>\n",
              "      <td>Paul Roberts</td>\n",
              "      <td>5.0</td>\n",
              "      <td>224</td>\n",
              "      <td>I've owned several of their older brewstation ...</td>\n",
              "    </tr>\n",
              "    <tr>\n",
              "      <th>4</th>\n",
              "      <td>November 28, 2017</td>\n",
              "      <td>JennyD</td>\n",
              "      <td>3.0</td>\n",
              "      <td>116</td>\n",
              "      <td>I agonized over which coffee maker to purchase...</td>\n",
              "    </tr>\n",
              "    <tr>\n",
              "      <th>...</th>\n",
              "      <td>...</td>\n",
              "      <td>...</td>\n",
              "      <td>...</td>\n",
              "      <td>...</td>\n",
              "      <td>...</td>\n",
              "    </tr>\n",
              "    <tr>\n",
              "      <th>4995</th>\n",
              "      <td>February 4, 2014</td>\n",
              "      <td>shashi</td>\n",
              "      <td>5.0</td>\n",
              "      <td>NaN</td>\n",
              "      <td>Our Mr. Coffee machine stopped working one day...</td>\n",
              "    </tr>\n",
              "    <tr>\n",
              "      <th>4996</th>\n",
              "      <td>May 2, 2019</td>\n",
              "      <td>Connie Krusi</td>\n",
              "      <td>1.0</td>\n",
              "      <td>NaN</td>\n",
              "      <td>This is the second generation of this product ...</td>\n",
              "    </tr>\n",
              "    <tr>\n",
              "      <th>4997</th>\n",
              "      <td>August 28, 2014</td>\n",
              "      <td>KL</td>\n",
              "      <td>5.0</td>\n",
              "      <td>NaN</td>\n",
              "      <td>Wow works great and bought it for a bargain wi...</td>\n",
              "    </tr>\n",
              "    <tr>\n",
              "      <th>4998</th>\n",
              "      <td>December 16, 2019</td>\n",
              "      <td>Nancy</td>\n",
              "      <td>2.0</td>\n",
              "      <td>NaN</td>\n",
              "      <td>Doesn’t brew correctly need to start to get al...</td>\n",
              "    </tr>\n",
              "    <tr>\n",
              "      <th>4999</th>\n",
              "      <td>July 15, 2016</td>\n",
              "      <td>Roxanna Norman</td>\n",
              "      <td>5.0</td>\n",
              "      <td>NaN</td>\n",
              "      <td>Love my new coffee pot easy to use and keeps m...</td>\n",
              "    </tr>\n",
              "  </tbody>\n",
              "</table>\n",
              "<p>5000 rows × 5 columns</p>\n",
              "</div>\n",
              "      <button class=\"colab-df-convert\" onclick=\"convertToInteractive('df-ea9440d7-8f89-4334-82f3-c2b2f7a48ba4')\"\n",
              "              title=\"Convert this dataframe to an interactive table.\"\n",
              "              style=\"display:none;\">\n",
              "        \n",
              "  <svg xmlns=\"http://www.w3.org/2000/svg\" height=\"24px\"viewBox=\"0 0 24 24\"\n",
              "       width=\"24px\">\n",
              "    <path d=\"M0 0h24v24H0V0z\" fill=\"none\"/>\n",
              "    <path d=\"M18.56 5.44l.94 2.06.94-2.06 2.06-.94-2.06-.94-.94-2.06-.94 2.06-2.06.94zm-11 1L8.5 8.5l.94-2.06 2.06-.94-2.06-.94L8.5 2.5l-.94 2.06-2.06.94zm10 10l.94 2.06.94-2.06 2.06-.94-2.06-.94-.94-2.06-.94 2.06-2.06.94z\"/><path d=\"M17.41 7.96l-1.37-1.37c-.4-.4-.92-.59-1.43-.59-.52 0-1.04.2-1.43.59L10.3 9.45l-7.72 7.72c-.78.78-.78 2.05 0 2.83L4 21.41c.39.39.9.59 1.41.59.51 0 1.02-.2 1.41-.59l7.78-7.78 2.81-2.81c.8-.78.8-2.07 0-2.86zM5.41 20L4 18.59l7.72-7.72 1.47 1.35L5.41 20z\"/>\n",
              "  </svg>\n",
              "      </button>\n",
              "      \n",
              "  <style>\n",
              "    .colab-df-container {\n",
              "      display:flex;\n",
              "      flex-wrap:wrap;\n",
              "      gap: 12px;\n",
              "    }\n",
              "\n",
              "    .colab-df-convert {\n",
              "      background-color: #E8F0FE;\n",
              "      border: none;\n",
              "      border-radius: 50%;\n",
              "      cursor: pointer;\n",
              "      display: none;\n",
              "      fill: #1967D2;\n",
              "      height: 32px;\n",
              "      padding: 0 0 0 0;\n",
              "      width: 32px;\n",
              "    }\n",
              "\n",
              "    .colab-df-convert:hover {\n",
              "      background-color: #E2EBFA;\n",
              "      box-shadow: 0px 1px 2px rgba(60, 64, 67, 0.3), 0px 1px 3px 1px rgba(60, 64, 67, 0.15);\n",
              "      fill: #174EA6;\n",
              "    }\n",
              "\n",
              "    [theme=dark] .colab-df-convert {\n",
              "      background-color: #3B4455;\n",
              "      fill: #D2E3FC;\n",
              "    }\n",
              "\n",
              "    [theme=dark] .colab-df-convert:hover {\n",
              "      background-color: #434B5C;\n",
              "      box-shadow: 0px 1px 3px 1px rgba(0, 0, 0, 0.15);\n",
              "      filter: drop-shadow(0px 1px 2px rgba(0, 0, 0, 0.3));\n",
              "      fill: #FFFFFF;\n",
              "    }\n",
              "  </style>\n",
              "\n",
              "      <script>\n",
              "        const buttonEl =\n",
              "          document.querySelector('#df-ea9440d7-8f89-4334-82f3-c2b2f7a48ba4 button.colab-df-convert');\n",
              "        buttonEl.style.display =\n",
              "          google.colab.kernel.accessAllowed ? 'block' : 'none';\n",
              "\n",
              "        async function convertToInteractive(key) {\n",
              "          const element = document.querySelector('#df-ea9440d7-8f89-4334-82f3-c2b2f7a48ba4');\n",
              "          const dataTable =\n",
              "            await google.colab.kernel.invokeFunction('convertToInteractive',\n",
              "                                                     [key], {});\n",
              "          if (!dataTable) return;\n",
              "\n",
              "          const docLinkHtml = 'Like what you see? Visit the ' +\n",
              "            '<a target=\"_blank\" href=https://colab.research.google.com/notebooks/data_table.ipynb>data table notebook</a>'\n",
              "            + ' to learn more about interactive tables.';\n",
              "          element.innerHTML = '';\n",
              "          dataTable['output_type'] = 'display_data';\n",
              "          await google.colab.output.renderOutput(dataTable, element);\n",
              "          const docLink = document.createElement('div');\n",
              "          docLink.innerHTML = docLinkHtml;\n",
              "          element.appendChild(docLink);\n",
              "        }\n",
              "      </script>\n",
              "    </div>\n",
              "  </div>\n",
              "  "
            ]
          },
          "metadata": {},
          "execution_count": 17
        }
      ]
    },
    {
      "cell_type": "code",
      "source": [
        "# Ratings 1-3 -> negative sentiment. Ratings 4-5 -> positive sentiment\n",
        "df['label'] = df.apply(lambda row: row.rating>3.0,axis=1)\n",
        "df['label'] = df['label'].astype(int)\n",
        "df.head()"
      ],
      "metadata": {
        "colab": {
          "base_uri": "https://localhost:8080/",
          "height": 206
        },
        "id": "FXgrG-YVpsS8",
        "outputId": "fe72aea5-16f1-4677-bb94-fe0c8f7bf716"
      },
      "execution_count": 18,
      "outputs": [
        {
          "output_type": "execute_result",
          "data": {
            "text/plain": [
              "         review_date              handle  rating helpfulness_rating  \\\n",
              "0     April 14, 2018         The Dolphin     2.0                513   \n",
              "1   February 7, 2019  Karen Kaffenberger     1.0                122   \n",
              "2  December 23, 2017             C1C3C11     4.0                185   \n",
              "3  November 26, 2016        Paul Roberts     5.0                224   \n",
              "4  November 28, 2017              JennyD     3.0                116   \n",
              "\n",
              "                                              review  label  \n",
              "0  Delightful coffee maker if you’re only looking...      0  \n",
              "1  UPDATE: Bought this 10-21-18 and I finally ret...      0  \n",
              "2  The big reason I ordered this was because I wa...      1  \n",
              "3  I've owned several of their older brewstation ...      1  \n",
              "4  I agonized over which coffee maker to purchase...      0  "
            ],
            "text/html": [
              "\n",
              "  <div id=\"df-d964f67a-49c2-42c2-bfca-327476a6a430\">\n",
              "    <div class=\"colab-df-container\">\n",
              "      <div>\n",
              "<style scoped>\n",
              "    .dataframe tbody tr th:only-of-type {\n",
              "        vertical-align: middle;\n",
              "    }\n",
              "\n",
              "    .dataframe tbody tr th {\n",
              "        vertical-align: top;\n",
              "    }\n",
              "\n",
              "    .dataframe thead th {\n",
              "        text-align: right;\n",
              "    }\n",
              "</style>\n",
              "<table border=\"1\" class=\"dataframe\">\n",
              "  <thead>\n",
              "    <tr style=\"text-align: right;\">\n",
              "      <th></th>\n",
              "      <th>review_date</th>\n",
              "      <th>handle</th>\n",
              "      <th>rating</th>\n",
              "      <th>helpfulness_rating</th>\n",
              "      <th>review</th>\n",
              "      <th>label</th>\n",
              "    </tr>\n",
              "  </thead>\n",
              "  <tbody>\n",
              "    <tr>\n",
              "      <th>0</th>\n",
              "      <td>April 14, 2018</td>\n",
              "      <td>The Dolphin</td>\n",
              "      <td>2.0</td>\n",
              "      <td>513</td>\n",
              "      <td>Delightful coffee maker if you’re only looking...</td>\n",
              "      <td>0</td>\n",
              "    </tr>\n",
              "    <tr>\n",
              "      <th>1</th>\n",
              "      <td>February 7, 2019</td>\n",
              "      <td>Karen Kaffenberger</td>\n",
              "      <td>1.0</td>\n",
              "      <td>122</td>\n",
              "      <td>UPDATE: Bought this 10-21-18 and I finally ret...</td>\n",
              "      <td>0</td>\n",
              "    </tr>\n",
              "    <tr>\n",
              "      <th>2</th>\n",
              "      <td>December 23, 2017</td>\n",
              "      <td>C1C3C11</td>\n",
              "      <td>4.0</td>\n",
              "      <td>185</td>\n",
              "      <td>The big reason I ordered this was because I wa...</td>\n",
              "      <td>1</td>\n",
              "    </tr>\n",
              "    <tr>\n",
              "      <th>3</th>\n",
              "      <td>November 26, 2016</td>\n",
              "      <td>Paul Roberts</td>\n",
              "      <td>5.0</td>\n",
              "      <td>224</td>\n",
              "      <td>I've owned several of their older brewstation ...</td>\n",
              "      <td>1</td>\n",
              "    </tr>\n",
              "    <tr>\n",
              "      <th>4</th>\n",
              "      <td>November 28, 2017</td>\n",
              "      <td>JennyD</td>\n",
              "      <td>3.0</td>\n",
              "      <td>116</td>\n",
              "      <td>I agonized over which coffee maker to purchase...</td>\n",
              "      <td>0</td>\n",
              "    </tr>\n",
              "  </tbody>\n",
              "</table>\n",
              "</div>\n",
              "      <button class=\"colab-df-convert\" onclick=\"convertToInteractive('df-d964f67a-49c2-42c2-bfca-327476a6a430')\"\n",
              "              title=\"Convert this dataframe to an interactive table.\"\n",
              "              style=\"display:none;\">\n",
              "        \n",
              "  <svg xmlns=\"http://www.w3.org/2000/svg\" height=\"24px\"viewBox=\"0 0 24 24\"\n",
              "       width=\"24px\">\n",
              "    <path d=\"M0 0h24v24H0V0z\" fill=\"none\"/>\n",
              "    <path d=\"M18.56 5.44l.94 2.06.94-2.06 2.06-.94-2.06-.94-.94-2.06-.94 2.06-2.06.94zm-11 1L8.5 8.5l.94-2.06 2.06-.94-2.06-.94L8.5 2.5l-.94 2.06-2.06.94zm10 10l.94 2.06.94-2.06 2.06-.94-2.06-.94-.94-2.06-.94 2.06-2.06.94z\"/><path d=\"M17.41 7.96l-1.37-1.37c-.4-.4-.92-.59-1.43-.59-.52 0-1.04.2-1.43.59L10.3 9.45l-7.72 7.72c-.78.78-.78 2.05 0 2.83L4 21.41c.39.39.9.59 1.41.59.51 0 1.02-.2 1.41-.59l7.78-7.78 2.81-2.81c.8-.78.8-2.07 0-2.86zM5.41 20L4 18.59l7.72-7.72 1.47 1.35L5.41 20z\"/>\n",
              "  </svg>\n",
              "      </button>\n",
              "      \n",
              "  <style>\n",
              "    .colab-df-container {\n",
              "      display:flex;\n",
              "      flex-wrap:wrap;\n",
              "      gap: 12px;\n",
              "    }\n",
              "\n",
              "    .colab-df-convert {\n",
              "      background-color: #E8F0FE;\n",
              "      border: none;\n",
              "      border-radius: 50%;\n",
              "      cursor: pointer;\n",
              "      display: none;\n",
              "      fill: #1967D2;\n",
              "      height: 32px;\n",
              "      padding: 0 0 0 0;\n",
              "      width: 32px;\n",
              "    }\n",
              "\n",
              "    .colab-df-convert:hover {\n",
              "      background-color: #E2EBFA;\n",
              "      box-shadow: 0px 1px 2px rgba(60, 64, 67, 0.3), 0px 1px 3px 1px rgba(60, 64, 67, 0.15);\n",
              "      fill: #174EA6;\n",
              "    }\n",
              "\n",
              "    [theme=dark] .colab-df-convert {\n",
              "      background-color: #3B4455;\n",
              "      fill: #D2E3FC;\n",
              "    }\n",
              "\n",
              "    [theme=dark] .colab-df-convert:hover {\n",
              "      background-color: #434B5C;\n",
              "      box-shadow: 0px 1px 3px 1px rgba(0, 0, 0, 0.15);\n",
              "      filter: drop-shadow(0px 1px 2px rgba(0, 0, 0, 0.3));\n",
              "      fill: #FFFFFF;\n",
              "    }\n",
              "  </style>\n",
              "\n",
              "      <script>\n",
              "        const buttonEl =\n",
              "          document.querySelector('#df-d964f67a-49c2-42c2-bfca-327476a6a430 button.colab-df-convert');\n",
              "        buttonEl.style.display =\n",
              "          google.colab.kernel.accessAllowed ? 'block' : 'none';\n",
              "\n",
              "        async function convertToInteractive(key) {\n",
              "          const element = document.querySelector('#df-d964f67a-49c2-42c2-bfca-327476a6a430');\n",
              "          const dataTable =\n",
              "            await google.colab.kernel.invokeFunction('convertToInteractive',\n",
              "                                                     [key], {});\n",
              "          if (!dataTable) return;\n",
              "\n",
              "          const docLinkHtml = 'Like what you see? Visit the ' +\n",
              "            '<a target=\"_blank\" href=https://colab.research.google.com/notebooks/data_table.ipynb>data table notebook</a>'\n",
              "            + ' to learn more about interactive tables.';\n",
              "          element.innerHTML = '';\n",
              "          dataTable['output_type'] = 'display_data';\n",
              "          await google.colab.output.renderOutput(dataTable, element);\n",
              "          const docLink = document.createElement('div');\n",
              "          docLink.innerHTML = docLinkHtml;\n",
              "          element.appendChild(docLink);\n",
              "        }\n",
              "      </script>\n",
              "    </div>\n",
              "  </div>\n",
              "  "
            ]
          },
          "metadata": {},
          "execution_count": 18
        }
      ]
    },
    {
      "cell_type": "code",
      "source": [
        "# Assessing label class distribution\n",
        "import matplotlib.pyplot as plt\n",
        "\n",
        "plt.hist(df['label'])\n",
        "plt.gca().set(title = 'Frequency Distribution of label',ylabel='Frequency',xlabel='label')\n",
        "plt.show()"
      ],
      "metadata": {
        "colab": {
          "base_uri": "https://localhost:8080/",
          "height": 295
        },
        "id": "R5Ru-qJVr56_",
        "outputId": "1763bb66-fcfb-4b43-a0ea-0fd758508002"
      },
      "execution_count": 19,
      "outputs": [
        {
          "output_type": "display_data",
          "data": {
            "text/plain": [
              "<Figure size 432x288 with 1 Axes>"
            ],
            "image/png": "[encoded data removed]"
          },
          "metadata": {
            "needs_background": "light"
          }
        }
      ]
    },
    {
      "cell_type": "code",
      "source": [
        "df['review'] = df['review'].astype(str).apply(lambda x:x.lower())\n",
        "df.head()"
      ],
      "metadata": {
        "colab": {
          "base_uri": "https://localhost:8080/",
          "height": 206
        },
        "id": "orRXPwInsDGj",
        "outputId": "aab982ce-93d2-4e88-c4dd-6b1f30c11933"
      },
      "execution_count": 20,
      "outputs": [
        {
          "output_type": "execute_result",
          "data": {
            "text/plain": [
              "         review_date              handle  rating helpfulness_rating  \\\n",
              "0     April 14, 2018         The Dolphin     2.0                513   \n",
              "1   February 7, 2019  Karen Kaffenberger     1.0                122   \n",
              "2  December 23, 2017             C1C3C11     4.0                185   \n",
              "3  November 26, 2016        Paul Roberts     5.0                224   \n",
              "4  November 28, 2017              JennyD     3.0                116   \n",
              "\n",
              "                                              review  label  \n",
              "0  delightful coffee maker if you’re only looking...      0  \n",
              "1  update: bought this 10-21-18 and i finally ret...      0  \n",
              "2  the big reason i ordered this was because i wa...      1  \n",
              "3  i've owned several of their older brewstation ...      1  \n",
              "4  i agonized over which coffee maker to purchase...      0  "
            ],
            "text/html": [
              "\n",
              "  <div id=\"df-0380abae-a8bd-44c8-b6c8-f3e39ca2c7d7\">\n",
              "    <div class=\"colab-df-container\">\n",
              "      <div>\n",
              "<style scoped>\n",
              "    .dataframe tbody tr th:only-of-type {\n",
              "        vertical-align: middle;\n",
              "    }\n",
              "\n",
              "    .dataframe tbody tr th {\n",
              "        vertical-align: top;\n",
              "    }\n",
              "\n",
              "    .dataframe thead th {\n",
              "        text-align: right;\n",
              "    }\n",
              "</style>\n",
              "<table border=\"1\" class=\"dataframe\">\n",
              "  <thead>\n",
              "    <tr style=\"text-align: right;\">\n",
              "      <th></th>\n",
              "      <th>review_date</th>\n",
              "      <th>handle</th>\n",
              "      <th>rating</th>\n",
              "      <th>helpfulness_rating</th>\n",
              "      <th>review</th>\n",
              "      <th>label</th>\n",
              "    </tr>\n",
              "  </thead>\n",
              "  <tbody>\n",
              "    <tr>\n",
              "      <th>0</th>\n",
              "      <td>April 14, 2018</td>\n",
              "      <td>The Dolphin</td>\n",
              "      <td>2.0</td>\n",
              "      <td>513</td>\n",
              "      <td>delightful coffee maker if you’re only looking...</td>\n",
              "      <td>0</td>\n",
              "    </tr>\n",
              "    <tr>\n",
              "      <th>1</th>\n",
              "      <td>February 7, 2019</td>\n",
              "      <td>Karen Kaffenberger</td>\n",
              "      <td>1.0</td>\n",
              "      <td>122</td>\n",
              "      <td>update: bought this 10-21-18 and i finally ret...</td>\n",
              "      <td>0</td>\n",
              "    </tr>\n",
              "    <tr>\n",
              "      <th>2</th>\n",
              "      <td>December 23, 2017</td>\n",
              "      <td>C1C3C11</td>\n",
              "      <td>4.0</td>\n",
              "      <td>185</td>\n",
              "      <td>the big reason i ordered this was because i wa...</td>\n",
              "      <td>1</td>\n",
              "    </tr>\n",
              "    <tr>\n",
              "      <th>3</th>\n",
              "      <td>November 26, 2016</td>\n",
              "      <td>Paul Roberts</td>\n",
              "      <td>5.0</td>\n",
              "      <td>224</td>\n",
              "      <td>i've owned several of their older brewstation ...</td>\n",
              "      <td>1</td>\n",
              "    </tr>\n",
              "    <tr>\n",
              "      <th>4</th>\n",
              "      <td>November 28, 2017</td>\n",
              "      <td>JennyD</td>\n",
              "      <td>3.0</td>\n",
              "      <td>116</td>\n",
              "      <td>i agonized over which coffee maker to purchase...</td>\n",
              "      <td>0</td>\n",
              "    </tr>\n",
              "  </tbody>\n",
              "</table>\n",
              "</div>\n",
              "      <button class=\"colab-df-convert\" onclick=\"convertToInteractive('df-0380abae-a8bd-44c8-b6c8-f3e39ca2c7d7')\"\n",
              "              title=\"Convert this dataframe to an interactive table.\"\n",
              "              style=\"display:none;\">\n",
              "        \n",
              "  <svg xmlns=\"http://www.w3.org/2000/svg\" height=\"24px\"viewBox=\"0 0 24 24\"\n",
              "       width=\"24px\">\n",
              "    <path d=\"M0 0h24v24H0V0z\" fill=\"none\"/>\n",
              "    <path d=\"M18.56 5.44l.94 2.06.94-2.06 2.06-.94-2.06-.94-.94-2.06-.94 2.06-2.06.94zm-11 1L8.5 8.5l.94-2.06 2.06-.94-2.06-.94L8.5 2.5l-.94 2.06-2.06.94zm10 10l.94 2.06.94-2.06 2.06-.94-2.06-.94-.94-2.06-.94 2.06-2.06.94z\"/><path d=\"M17.41 7.96l-1.37-1.37c-.4-.4-.92-.59-1.43-.59-.52 0-1.04.2-1.43.59L10.3 9.45l-7.72 7.72c-.78.78-.78 2.05 0 2.83L4 21.41c.39.39.9.59 1.41.59.51 0 1.02-.2 1.41-.59l7.78-7.78 2.81-2.81c.8-.78.8-2.07 0-2.86zM5.41 20L4 18.59l7.72-7.72 1.47 1.35L5.41 20z\"/>\n",
              "  </svg>\n",
              "      </button>\n",
              "      \n",
              "  <style>\n",
              "    .colab-df-container {\n",
              "      display:flex;\n",
              "      flex-wrap:wrap;\n",
              "      gap: 12px;\n",
              "    }\n",
              "\n",
              "    .colab-df-convert {\n",
              "      background-color: #E8F0FE;\n",
              "      border: none;\n",
              "      border-radius: 50%;\n",
              "      cursor: pointer;\n",
              "      display: none;\n",
              "      fill: #1967D2;\n",
              "      height: 32px;\n",
              "      padding: 0 0 0 0;\n",
              "      width: 32px;\n",
              "    }\n",
              "\n",
              "    .colab-df-convert:hover {\n",
              "      background-color: #E2EBFA;\n",
              "      box-shadow: 0px 1px 2px rgba(60, 64, 67, 0.3), 0px 1px 3px 1px rgba(60, 64, 67, 0.15);\n",
              "      fill: #174EA6;\n",
              "    }\n",
              "\n",
              "    [theme=dark] .colab-df-convert {\n",
              "      background-color: #3B4455;\n",
              "      fill: #D2E3FC;\n",
              "    }\n",
              "\n",
              "    [theme=dark] .colab-df-convert:hover {\n",
              "      background-color: #434B5C;\n",
              "      box-shadow: 0px 1px 3px 1px rgba(0, 0, 0, 0.15);\n",
              "      filter: drop-shadow(0px 1px 2px rgba(0, 0, 0, 0.3));\n",
              "      fill: #FFFFFF;\n",
              "    }\n",
              "  </style>\n",
              "\n",
              "      <script>\n",
              "        const buttonEl =\n",
              "          document.querySelector('#df-0380abae-a8bd-44c8-b6c8-f3e39ca2c7d7 button.colab-df-convert');\n",
              "        buttonEl.style.display =\n",
              "          google.colab.kernel.accessAllowed ? 'block' : 'none';\n",
              "\n",
              "        async function convertToInteractive(key) {\n",
              "          const element = document.querySelector('#df-0380abae-a8bd-44c8-b6c8-f3e39ca2c7d7');\n",
              "          const dataTable =\n",
              "            await google.colab.kernel.invokeFunction('convertToInteractive',\n",
              "                                                     [key], {});\n",
              "          if (!dataTable) return;\n",
              "\n",
              "          const docLinkHtml = 'Like what you see? Visit the ' +\n",
              "            '<a target=\"_blank\" href=https://colab.research.google.com/notebooks/data_table.ipynb>data table notebook</a>'\n",
              "            + ' to learn more about interactive tables.';\n",
              "          element.innerHTML = '';\n",
              "          dataTable['output_type'] = 'display_data';\n",
              "          await google.colab.output.renderOutput(dataTable, element);\n",
              "          const docLink = document.createElement('div');\n",
              "          docLink.innerHTML = docLinkHtml;\n",
              "          element.appendChild(docLink);\n",
              "        }\n",
              "      </script>\n",
              "    </div>\n",
              "  </div>\n",
              "  "
            ]
          },
          "metadata": {},
          "execution_count": 20
        }
      ]
    },
    {
      "cell_type": "markdown",
      "source": [
        "# train/test split"
      ],
      "metadata": {
        "id": "swnqX8vdsZxj"
      }
    },
    {
      "cell_type": "code",
      "source": [
        "from sklearn.model_selection import train_test_split\n",
        "X = df['review']\n",
        "y = df['label']\n",
        "\n",
        "X_train, X_test, y_train, y_test = train_test_split(X, y, test_size=0.3, random_state=14)\n",
        "X_train.shape,X_test.shape, y_train.shape, y_test.shape"
      ],
      "metadata": {
        "colab": {
          "base_uri": "https://localhost:8080/"
        },
        "id": "Pqa2jE3OsVwL",
        "outputId": "0af6824f-144f-4393-e02c-de29e427def6"
      },
      "execution_count": 21,
      "outputs": [
        {
          "output_type": "execute_result",
          "data": {
            "text/plain": [
              "((3500,), (1500,), (3500,), (1500,))"
            ]
          },
          "metadata": {},
          "execution_count": 21
        }
      ]
    },
    {
      "cell_type": "code",
      "source": [
        "m = TfidfVectorizer()\n",
        "m.fit(X_train,y_train)\n",
        "m.transform(X_test).toarray().shape"
      ],
      "metadata": {
        "colab": {
          "base_uri": "https://localhost:8080/"
        },
        "id": "W9XqUGAJtKTI",
        "outputId": "257f39a4-66a9-4fa6-a996-0b07143fceb1"
      },
      "execution_count": 22,
      "outputs": [
        {
          "output_type": "execute_result",
          "data": {
            "text/plain": [
              "(1500, 6274)"
            ]
          },
          "metadata": {},
          "execution_count": 22
        }
      ]
    },
    {
      "cell_type": "markdown",
      "source": [
        "# LogisticRegression"
      ],
      "metadata": {
        "id": "aXe8GVo7vMhJ"
      }
    },
    {
      "cell_type": "code",
      "source": [
        "lr= LogisticRegression()\n",
        "pipe = Pipeline([\n",
        "            ('tfidf', TfidfVectorizer()), \n",
        "            ('Logistic Regression',lr),\n",
        "            ])\n",
        "\n",
        "pipe.fit(X_train,y_train)\n",
        "pred = pipe.predict(X_test)\n",
        "pred_prob = pipe.predict_proba(X_test)[:, 1]\n",
        "\n",
        "fpr, tpr, thresholds = roc_curve(y_test, pred_prob)\n",
        "precision, recall, thresholds_pr = precision_recall_curve(y_test, pred)\n",
        "\n",
        "print(\"_________Logistic Regression Model_________\")\n",
        "print(classification_report(y_test, pred))\n",
        "print('ROC AUC: ', auc(fpr, tpr))\n",
        "print('Precision/Recall AUC: ', auc(precision, recall))"
      ],
      "metadata": {
        "colab": {
          "base_uri": "https://localhost:8080/"
        },
        "id": "mpm0hKT3sbmb",
        "outputId": "201efc11-0780-4139-d4ff-f79d96ff55f5"
      },
      "execution_count": 23,
      "outputs": [
        {
          "output_type": "stream",
          "name": "stdout",
          "text": [
            "_________Logistic Regression Model_________\n",
            "              precision    recall  f1-score   support\n",
            "\n",
            "           0       0.87      0.84      0.86       622\n",
            "           1       0.89      0.91      0.90       878\n",
            "\n",
            "    accuracy                           0.88      1500\n",
            "   macro avg       0.88      0.88      0.88      1500\n",
            "weighted avg       0.88      0.88      0.88      1500\n",
            "\n",
            "ROC AUC:  0.9460105545342015\n",
            "Precision/Recall AUC:  0.34227537332320923\n"
          ]
        }
      ]
    },
    {
      "cell_type": "markdown",
      "source": [
        "# SVM"
      ],
      "metadata": {
        "id": "kBvdD0iDvOvF"
      }
    },
    {
      "cell_type": "code",
      "source": [
        "model = svm.SVC(probability=True)\n",
        "\n",
        "pipe = Pipeline([\n",
        "            ('tfidf', TfidfVectorizer()), \n",
        "            ('SVM',model),\n",
        "            ])\n",
        "\n",
        "pipe.fit(X_train,y_train)\n",
        "pred = pipe.predict(X_test)\n",
        "pred_prob = pipe.predict_proba(X_test)[:, 1]\n",
        "\n",
        "fpr, tpr, thresholds = roc_curve(y_test, pred_prob)\n",
        "precision, recall, thresholds_pr = precision_recall_curve(y_test, pred)\n",
        "\n",
        "print(\"_________SVM_________\")\n",
        "print(classification_report(y_test, pred))\n",
        "print('ROC AUC: ', auc(fpr, tpr))\n",
        "print('Precision/Recall AUC: ', auc(precision, recall))"
      ],
      "metadata": {
        "colab": {
          "base_uri": "https://localhost:8080/"
        },
        "id": "IFL1ufSas6Kz",
        "outputId": "a43efb55-9622-4626-95fa-b25b5e9b7d0b"
      },
      "execution_count": 24,
      "outputs": [
        {
          "output_type": "stream",
          "name": "stdout",
          "text": [
            "_________SVM_________\n",
            "              precision    recall  f1-score   support\n",
            "\n",
            "           0       0.88      0.87      0.87       622\n",
            "           1       0.91      0.91      0.91       878\n",
            "\n",
            "    accuracy                           0.90      1500\n",
            "   macro avg       0.89      0.89      0.89      1500\n",
            "weighted avg       0.90      0.90      0.90      1500\n",
            "\n",
            "ROC AUC:  0.9498522291967275\n",
            "Precision/Recall AUC:  0.35062827690050574\n"
          ]
        }
      ]
    },
    {
      "cell_type": "markdown",
      "source": [
        "# XGB"
      ],
      "metadata": {
        "id": "a0Rwncos3Zir"
      }
    },
    {
      "cell_type": "code",
      "source": [
        "model = XGBClassifier()\n",
        "\n",
        "pipe = Pipeline([\n",
        "            ('tfidf', TfidfVectorizer()), \n",
        "            ('XGB',model),\n",
        "            ])\n",
        "\n",
        "pipe.fit(X_train,y_train)\n",
        "pred = pipe.predict(X_test)\n",
        "pred_prob = pipe.predict_proba(X_test)[:, 1]\n",
        "\n",
        "fpr, tpr, thresholds = roc_curve(y_test, pred_prob)\n",
        "precision, recall, thresholds_pr = precision_recall_curve(y_test, pred)\n",
        "\n",
        "print(\"_________XGB_________\")\n",
        "print(classification_report(y_test, pred))\n",
        "print('ROC AUC: ', auc(fpr, tpr))\n",
        "print('Precision/Recall AUC: ', auc(precision, recall))"
      ],
      "metadata": {
        "colab": {
          "base_uri": "https://localhost:8080/"
        },
        "id": "bAy5kUdU3ZxF",
        "outputId": "f96f9872-fddc-4222-ef28-efb5b104e0b9"
      },
      "execution_count": 25,
      "outputs": [
        {
          "output_type": "stream",
          "name": "stdout",
          "text": [
            "_________XGB_________\n",
            "              precision    recall  f1-score   support\n",
            "\n",
            "           0       0.84      0.75      0.79       622\n",
            "           1       0.83      0.90      0.87       878\n",
            "\n",
            "    accuracy                           0.84      1500\n",
            "   macro avg       0.84      0.82      0.83      1500\n",
            "weighted avg       0.84      0.84      0.83      1500\n",
            "\n",
            "ROC AUC:  0.9099596056515465\n",
            "Precision/Recall AUC:  0.3108767259305843\n"
          ]
        }
      ]
    },
    {
      "cell_type": "markdown",
      "source": [
        "# ANN"
      ],
      "metadata": {
        "id": "HsSmC6bV5DLx"
      }
    },
    {
      "cell_type": "code",
      "source": [
        "mlp = MLPClassifier(alpha=1, max_iter=1000)\n",
        "\n",
        "\n",
        "pipe = Pipeline([\n",
        "            ('tfidf', TfidfVectorizer()), \n",
        "            ('ANN',mlp),\n",
        "            ])\n",
        "\n",
        "pipe.fit(X_train,y_train)\n",
        "pred = pipe.predict(X_test)\n",
        "pred_prob = pipe.predict_proba(X_test)[:, 1]\n",
        "\n",
        "fpr, tpr, thresholds = roc_curve(y_test, pred_prob)\n",
        "precision, recall, thresholds_pr = precision_recall_curve(y_test, pred)\n",
        "\n",
        "print(\"_________ ANN _________\")\n",
        "print(classification_report(y_test, pred))\n",
        "print('ROC AUC: ', auc(fpr, tpr))\n",
        "print('Precision/Recall AUC: ', auc(precision, recall))"
      ],
      "metadata": {
        "colab": {
          "base_uri": "https://localhost:8080/"
        },
        "id": "GnQ4gMXC2aaP",
        "outputId": "2a4e251b-40ef-4dff-cc8a-8194d849d7ee"
      },
      "execution_count": 26,
      "outputs": [
        {
          "output_type": "stream",
          "name": "stdout",
          "text": [
            "_________ ANN _________\n",
            "              precision    recall  f1-score   support\n",
            "\n",
            "           0       0.87      0.87      0.87       622\n",
            "           1       0.91      0.91      0.91       878\n",
            "\n",
            "    accuracy                           0.89      1500\n",
            "   macro avg       0.89      0.89      0.89      1500\n",
            "weighted avg       0.89      0.89      0.89      1500\n",
            "\n",
            "ROC AUC:  0.9479643518959341\n",
            "Precision/Recall AUC:  0.3499886622489128\n"
          ]
        }
      ]
    },
    {
      "cell_type": "markdown",
      "source": [
        "# Answer\n"
      ],
      "metadata": {
        "id": "KlSOVb-Y5pMD"
      }
    },
    {
      "cell_type": "markdown",
      "source": [
        "# 3.what approch you took\n",
        "\n",
        "We regard the rating rating Ratings 1-3 -> negative sentiment. Ratings 4-5 -> positive sentiment as a classification problem\n",
        "We use TFIDF to convert text data into vectors\n",
        "Then split the data into training/testing sets\n",
        "Doing this allows the supervised model to learn"
      ],
      "metadata": {
        "id": "uAnxClRH7GA8"
      }
    },
    {
      "cell_type": "markdown",
      "source": [
        "# 4.what are you result?\n",
        "\n",
        "We observe the results using\n",
        "precision, recall, f1-score and ROC AUC, Precision/Recall AUC"
      ],
      "metadata": {
        "id": "wxjJRtDn7GOJ"
      }
    },
    {
      "cell_type": "markdown",
      "source": [
        "# 5.How do you result compare?"
      ],
      "metadata": {
        "id": "Kudf-lCD7GXe"
      }
    },
    {
      "cell_type": "markdown",
      "source": [
        "According to classification_report\n",
        "Logistic regression, SVM, and ANN are almost as good, the best of which is SVM, and XGB performs relatively poorly"
      ],
      "metadata": {
        "id": "RJBt3qNG8plN"
      }
    },
    {
      "cell_type": "markdown",
      "source": [
        "# 6 what are work well? what not so well?"
      ],
      "metadata": {
        "id": "lF-_Q4bw6xHy"
      }
    },
    {
      "cell_type": "markdown",
      "source": [
        "\n",
        "SVM work well XGB not so well"
      ],
      "metadata": {
        "id": "M3xktPCs9Fmh"
      }
    },
    {
      "cell_type": "code",
      "source": [],
      "metadata": {
        "id": "BB_BeBHq7KSP"
      },
      "execution_count": 26,
      "outputs": []
    }
  ]
}